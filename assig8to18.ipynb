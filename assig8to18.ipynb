{
 "cells": [
  {
   "cell_type": "code",
   "execution_count": null,
   "id": "3d714002-cefc-4c6c-bb29-9083ae8ed120",
   "metadata": {},
   "outputs": [],
   "source": [
    "#assignment 8\n",
    "#assignment 9\n",
    "#assignment 10\n",
    "#assignment 12\n",
    "#assignment 13\n",
    "\"\"\"1.\tWrite a Python Program to Add Two Matrices?\n",
    "2.\tWrite a Python Program to Multiply Two Matrices?\n",
    "3.\tWrite a Python Program to Transpose a Matrix?\n",
    "4.\tWrite a Python Program to Sort Words in Alphabetic Order?\n",
    "5.\tWrite a Python Program to Remove Punctuation From a String?\n",
    "   \"\"\""
   ]
  },
  {
   "cell_type": "code",
   "execution_count": null,
   "id": "7868fc9c-3b9f-4cc2-996f-664988d561cf",
   "metadata": {},
   "outputs": [],
   "source": []
  },
  {
   "cell_type": "code",
   "execution_count": 8,
   "id": "2f23acf7-aabe-441d-97ad-946386694a2b",
   "metadata": {},
   "outputs": [
    {
     "data": {
      "text/plain": [
       "array([[ 10.,   8.,   8.],\n",
       "       [ 28.,  62.,  85.],\n",
       "       [ 79., 134., 157.]])"
      ]
     },
     "execution_count": 8,
     "metadata": {},
     "output_type": "execute_result"
    }
   ],
   "source": [
    "#add two matrixes in python\n",
    "a=[[1,2,3],[5,6,7],[45,89,90]]\n",
    "b=[[9,6,5],[23,56,78,90],[34,45,67]]\n",
    "import numpy as np\n",
    "def add_matrix(a,b):\n",
    "    rows=len(a)\n",
    "    cols=len(a[0])\n",
    "    c=np.zeros((rows,cols))\n",
    "    for i in range(rows):\n",
    "        for j in range(cols):\n",
    "            c[i][j]=a[i][j]+b[i][j]\n",
    "    return c\n",
    "\n",
    "add_matrix(a,b)\n"
   ]
  },
  {
   "cell_type": "code",
   "execution_count": 22,
   "id": "4d283b04-d905-476d-af02-ffad5cce5c7b",
   "metadata": {},
   "outputs": [
    {
     "name": "stdout",
     "output_type": "stream",
     "text": [
      "\n",
      " multiplication is possible\n",
      "[[  157.   253.   362.]\n",
      " [  421.   681.   962.]\n",
      " [ 5512.  9304. 13197.]]\n"
     ]
    }
   ],
   "source": [
    "#multiplication of two matrixes\n",
    "import numpy as np\n",
    "def multimatrix(a,b):\n",
    "    r1=len(a)\n",
    "    c1=len(a[0])\n",
    "    r2=len(b)\n",
    "    c2=len(b[0])\n",
    "    import numpy as np\n",
    "    #c=np.zeros(r1,c2)\n",
    "    if(c1!=r2):\n",
    "        print(\"\\n multiplication is not-possible\")\n",
    "    elif(c1==r2):\n",
    "        print(\"\\n multiplication is possible\")\n",
    "        #import numpy as np\n",
    "        #c=np.zeros(r1,c2)\n",
    "        #print\n",
    "        c = np.zeros((r1,c2))\n",
    "        for i in range(r1):\n",
    "            for j in range(c2):\n",
    "                for k in range(c1):\n",
    "                    c[i][j]=c[i][j]+a[i][k]*b[k][j]\n",
    "    print(c)\n",
    "                    \n",
    "            \n",
    "                \n",
    "                \n",
    "                \n",
    "multimatrix([[1,2,3],[5,6,7],[45,89,90]],[[9,6,5],[23,56,78,90],[34,45,67]])\n",
    "                \n",
    "        "
   ]
  },
  {
   "cell_type": "code",
   "execution_count": 38,
   "id": "e239f67b-91e9-476c-b185-6195ba0240eb",
   "metadata": {},
   "outputs": [
    {
     "name": "stdout",
     "output_type": "stream",
     "text": [
      "3 3\n"
     ]
    },
    {
     "data": {
      "text/plain": [
       "array([[1., 4., 1.],\n",
       "       [2., 5., 6.],\n",
       "       [3., 6., 3.]])"
      ]
     },
     "execution_count": 38,
     "metadata": {},
     "output_type": "execute_result"
    }
   ],
   "source": [
    "#Write a Python Program to Transpose a Matrix?\n",
    "def abc(a):\n",
    "    row=len(a)\n",
    "    col=len(a[0])\n",
    "    print(row,col)\n",
    "    import numpy as np\n",
    "    c=np.zeros((col,row))\n",
    "    for i in range(row):\n",
    "        for j in range(col):\n",
    "            c[j][i]=a[i][j]\n",
    "    return c\n",
    "abc([[1,2,3],[4,5,6],[1,6,3]])"
   ]
  },
  {
   "cell_type": "code",
   "execution_count": 3,
   "id": "0d85025c-b5d7-4921-bf45-a77d4ccd072b",
   "metadata": {},
   "outputs": [
    {
     "data": {
      "text/plain": [
       "'xyz'"
      ]
     },
     "execution_count": 3,
     "metadata": {},
     "output_type": "execute_result"
    }
   ],
   "source": [
    "#Write a Python Program to Sort Words in Alphabetic Order?\n",
    "def abc(a):\n",
    "    c=sorted(a)\n",
    "    s=''\n",
    "    for i in c:\n",
    "        s=s+i\n",
    "    return s\n",
    "abc('zxy')"
   ]
  },
  {
   "cell_type": "code",
   "execution_count": 6,
   "id": "912fbee6-bc66-469c-af23-d255a202840a",
   "metadata": {},
   "outputs": [
    {
     "data": {
      "text/plain": [
       "'hello how are you'"
      ]
     },
     "execution_count": 6,
     "metadata": {},
     "output_type": "execute_result"
    }
   ],
   "source": [
    "#Write a Python Program to Remove Punctuation From a String?\n",
    "def abc(a):\n",
    "    b=list(a);\n",
    "    s=''\n",
    "    for i in range(0,len(b)):\n",
    "        if(b[i]==',' or b[i]=='.'or b[i]=='@' or b[i]=='$' or b[i]=='#' or b[i]=='%' or b[i]=='*' or b[i]=='&' or b[i]=='^'):\n",
    "            continue\n",
    "        else:\n",
    "            s=s+b[i]\n",
    "    return s\n",
    "abc(\"hello how are ,you\")  "
   ]
  },
  {
   "cell_type": "markdown",
   "id": "f836b6af-7812-43e7-bcc8-28e103b9798e",
   "metadata": {},
   "source": [
    "#assignment 9\n",
    "\"\"\" 1.\tWrite a Python program to check if the given number is a Disarium Number?\n",
    "2.\tWrite a Python program to print all disarium numbers between 1 to 100?\n",
    "3.\tWrite a Python program to check if the given number is Happy Number?\n",
    "4.\tWrite a Python program to print all happy numbers between 1 and 100?\n",
    "5.\tWrite a Python program to determine whether the given number is a Harshad Number?\n",
    "6.\tWrite a Python program to print all pronic numbers between 1 and 100? \"\"\""
   ]
  },
  {
   "cell_type": "code",
   "execution_count": 21,
   "id": "9ef8b616-076c-48be-b98e-673539d1aacd",
   "metadata": {},
   "outputs": [
    {
     "name": "stdout",
     "output_type": "stream",
     "text": [
      "assignment 9\n",
      "question 1\n",
      "[1]\n",
      "[1, 64]\n",
      "[1, 64, 729]\n",
      "\n",
      " it is not-disarium number 794 != 189\n",
      "---------------\n",
      "[1]\n",
      "[1, 9]\n",
      "[1, 9, 125]\n",
      "[1, 9, 125] == 135 -----> is disarium numbers 135 == 135\n",
      "135\n"
     ]
    }
   ],
   "source": [
    "print('assignment 9')\n",
    "print('question 1')\n",
    "def abcd(a):\n",
    "    b=str(a)\n",
    "    count=1\n",
    "    s=[]\n",
    "    for i in range(0,len(b)):\n",
    "        s.append((int(b[i])**count))\n",
    "        print(s)\n",
    "        count=count+1\n",
    "    d=0\n",
    "    for a in range(0,len(s)):\n",
    "        d=d+s[a]\n",
    "    if(int(b)==d):\n",
    "        print(s,\"==\",d,\"-----> is disarium numbers\",d,\"==\",int(b))\n",
    "    else:\n",
    "        print(\"\\n it is not-disarium number\",d,\"!=\",b)\n",
    "        \n",
    "    return d\n",
    "abcd(189)\n",
    "print(\"---------------\")\n",
    "da=abcd(135)\n",
    "print(da)\n",
    "        "
   ]
  },
  {
   "cell_type": "code",
   "execution_count": 36,
   "id": "6853e3ee-3571-49cb-a631-ce7cd054b769",
   "metadata": {},
   "outputs": [],
   "source": [
    "#2. Write a Python program to print all disarium numbers between 1 to 100? \n",
    "def abcd(a):\n",
    "    b=str(a)\n",
    "    count=1\n",
    "    s=[]\n",
    "    for i in range(0,len(b)):\n",
    "        s.append((int(b[i])**count))\n",
    "        #print(s)\n",
    "        count=count+1\n",
    "    d=0\n",
    "    for a in range(0,len(s)):\n",
    "        d=d+s[a]\n",
    "    if(int(b)==d):\n",
    "        print(\"it  is disarium numbers\",d,\"==\",int(b))\n",
    "    #return b\n",
    "for i in range(1,100):\n",
    "    abcd(83)\n"
   ]
  },
  {
   "cell_type": "code",
   "execution_count": 28,
   "id": "a4d81957-04b4-4a4d-a400-8b8f096d7614",
   "metadata": {},
   "outputs": [
    {
     "name": "stdout",
     "output_type": "stream",
     "text": [
      "1 == 1 -----> is disarium numbers 1 == 1\n",
      "2 == 2 -----> is disarium numbers 2 == 2\n",
      "3 == 3 -----> is disarium numbers 3 == 3\n",
      "4 == 4 -----> is disarium numbers 4 == 4\n",
      "5 == 5 -----> is disarium numbers 5 == 5\n",
      "6 == 6 -----> is disarium numbers 6 == 6\n",
      "7 == 7 -----> is disarium numbers 7 == 7\n",
      "8 == 8 -----> is disarium numbers 8 == 8\n",
      "9 == 9 -----> is disarium numbers 9 == 9\n",
      "89 == 89 -----> is disarium numbers 89 == 89\n"
     ]
    }
   ],
   "source": [
    "#disarium number without using function\n",
    "for k in range(1,101):\n",
    "    b=str(k)\n",
    "    count=1\n",
    "    s=[]\n",
    "    for i in range(0,len(b)):\n",
    "        s.append((int(b[i])**count))\n",
    "        #print(s)\n",
    "        count=count+1\n",
    "    d=0\n",
    "    for a in range(0,len(s)):\n",
    "        d=d+s[a]\n",
    "    if(int(b)==d):\n",
    "        print(int(b),\"==\",d,\"-----> is disarium numbers\",d,\"==\",int(b))\n",
    "    "
   ]
  },
  {
   "cell_type": "code",
   "execution_count": 49,
   "id": "bcc94aa6-212c-4ec8-82d2-c8f67150ae46",
   "metadata": {},
   "outputs": [
    {
     "name": "stdout",
     "output_type": "stream",
     "text": [
      "162\n",
      "41\n"
     ]
    }
   ],
   "source": [
    "\"\"\"#Write a Python program to check if the given number is Happy Number? \n",
    "n=99\n",
    "b=str(n)\n",
    "s=0\n",
    "for i in b:\n",
    "    s=s+int(i)**2\n",
    "print(s)\n",
    "c=str(s)\n",
    "k=0\n",
    "for j in c:\n",
    "    k=k+int(j)**2\n",
    "print(k)\n",
    "print(\"----------------------------------------------\")\"\"\"\n",
    "\n",
    "    "
   ]
  },
  {
   "cell_type": "code",
   "execution_count": 9,
   "id": "e66cd0e3-a072-4042-af26-97edec148605",
   "metadata": {},
   "outputs": [
    {
     "data": {
      "text/plain": [
       "194"
      ]
     },
     "execution_count": 9,
     "metadata": {},
     "output_type": "execute_result"
    }
   ],
   "source": [
    "#Write a Python program to check if the given number is Happy Number? \n",
    "def sumofsquare_digits(a):\n",
    "    s=[];\n",
    "    z=0\n",
    "    b=str(a)\n",
    "    for i in b:\n",
    "        s.append((int(i)**2));\n",
    "    for k in s:\n",
    "        z=z+k\n",
    "    return z\n",
    "sumofsquare_digits(987)"
   ]
  },
  {
   "cell_type": "code",
   "execution_count": 12,
   "id": "ba470f84-7626-484d-a672-25aceeee2442",
   "metadata": {},
   "outputs": [
    {
     "data": {
      "text/plain": [
       "'def sumofsquare_digits(a):\\n    s=[];\\n    z=0\\n    b=str(a)\\n    for i in b:\\n        s.append((int(i)**2));\\n    for k in s:\\n        z=z+k\\n    return z'"
      ]
     },
     "execution_count": 12,
     "metadata": {},
     "output_type": "execute_result"
    }
   ],
   "source": [
    "\"\"\"def sumofsquare_digits(a):\n",
    "    s=[];\n",
    "    z=0\n",
    "    b=str(a)\n",
    "    for i in b:\n",
    "        s.append((int(i)**2));\n",
    "    for k in s:\n",
    "        z=z+k\n",
    "    return z\"\"\""
   ]
  },
  {
   "cell_type": "code",
   "execution_count": 13,
   "id": "485b1b36-b998-4b2b-8141-629f3b07618a",
   "metadata": {},
   "outputs": [
    {
     "name": "stdout",
     "output_type": "stream",
     "text": [
      "82 is a happy number\n"
     ]
    }
   ],
   "source": [
    "def isHappyNumber(num):  \n",
    "    rem = sum = 0;  \n",
    "      \n",
    "    #Calculates the sum of squares of digits  \n",
    "    while(num > 0):  \n",
    "        rem = num%10;  \n",
    "        sum = sum + (rem*rem);  \n",
    "        num = num//10;  \n",
    "    return sum;  \n",
    "      \n",
    "num = 82;  \n",
    "result = num;  \n",
    "   \n",
    "while(result != 1 and result != 4):  \n",
    "    result = isHappyNumber(result);  \n",
    "   \n",
    "#Happy number always ends with 1  \n",
    "if(result == 1):  \n",
    "    print(str(num) + \" is a happy number\");  \n",
    "#Unhappy number ends in a cycle of repeating numbers which contain 4  \n",
    "elif(result == 4):  \n",
    "    print(str(num) + \" is not a happy number\");     "
   ]
  },
  {
   "cell_type": "code",
   "execution_count": 16,
   "id": "fbd46067-ca0a-4b49-8dae-ba6866714909",
   "metadata": {},
   "outputs": [
    {
     "name": "stdout",
     "output_type": "stream",
     "text": [
      "1 is a happy number\n",
      "7 is a happy number\n",
      "10 is a happy number\n",
      "13 is a happy number\n",
      "19 is a happy number\n",
      "23 is a happy number\n",
      "28 is a happy number\n",
      "31 is a happy number\n",
      "32 is a happy number\n",
      "44 is a happy number\n",
      "49 is a happy number\n",
      "68 is a happy number\n",
      "70 is a happy number\n",
      "79 is a happy number\n",
      "82 is a happy number\n",
      "86 is a happy number\n",
      "91 is a happy number\n",
      "94 is a happy number\n",
      "97 is a happy number\n",
      "100 is a happy number\n"
     ]
    }
   ],
   "source": [
    "def isHappyNumber(num):  \n",
    "    rem = sum = 0;  \n",
    "      \n",
    "    #Calculates the sum of squares of digits  \n",
    "    while(num > 0):  \n",
    "        rem = num%10;  \n",
    "        sum = sum + (rem*rem);  \n",
    "        num = num//10;  \n",
    "    return sum;  \n",
    "for i in range(1,101):\n",
    "    num = i;  \n",
    "    result = num;  \n",
    "    while(result != 1 and result != 4):\n",
    "        result = isHappyNumber(result);\n",
    "    if(result == 1):\n",
    "        print(str(num) + \" is a happy number\");  \n",
    "    #elif(result == 4):  \n",
    "       # print(str(num) + \" is not a happy number\");    "
   ]
  },
  {
   "cell_type": "code",
   "execution_count": null,
   "id": "d76182e1-6b2e-4e99-a6d6-82707e4a3ef2",
   "metadata": {},
   "outputs": [],
   "source": [
    "#Write a Python program to determine whether the given number is a Harshad Number? \n",
    "#6. Write a Python program to print all pronic numbers between 1 and 100? \"\"\""
   ]
  },
  {
   "cell_type": "code",
   "execution_count": 26,
   "id": "1ad84249-ee4b-4588-9f73-385742b72202",
   "metadata": {},
   "outputs": [
    {
     "data": {
      "text/plain": [
       "11"
      ]
     },
     "execution_count": 26,
     "metadata": {},
     "output_type": "execute_result"
    }
   ],
   "source": [
    "#harshad number\n",
    "\n",
    "    "
   ]
  },
  {
   "cell_type": "code",
   "execution_count": null,
   "id": "983951ad-fbf6-4bb9-a333-1070f7ec02e3",
   "metadata": {},
   "outputs": [],
   "source": [
    "#assignment 10\n",
    "\"\"\"1.\tWrite a Python program to find sum of elements in list?\n",
    "2.\tWrite a Python program to  Multiply all numbers in the list?\n",
    "3.\tWrite a Python program to find smallest number in a list?\n",
    "4.\tWrite a Python program to find largest number in a list?\n",
    "5.\tWrite a Python program to find second largest number in a list?\n",
    "6.\tWrite a Python program to find N largest elements from a list?\n",
    "7.\tWrite a Python program to print even numbers in a list?\n",
    "8.\tWrite a Python program to print odd numbers in a List?\n",
    "9.\tWrite a Python program to Remove empty List from List?\n",
    "10.\tWrite a Python program to Cloning or Copying a list?\n",
    "11.\tWrite a Python program to Count occurrences of an element in a list?\"\"\""
   ]
  },
  {
   "cell_type": "code",
   "execution_count": 30,
   "id": "5552932f-5e6a-4196-a2c3-9e45975baa3c",
   "metadata": {},
   "outputs": [
    {
     "name": "stdout",
     "output_type": "stream",
     "text": [
      "\n",
      " sum of all elements in a list = 1417\n",
      "-------------------------------------------------\n",
      "question2\n",
      "\n",
      " multiplication of all elements in a list = 951289740601200\n"
     ]
    }
   ],
   "source": [
    "s=[1,56,89,90,45,23,23,89,1001]\n",
    "k=0\n",
    "for i in s:\n",
    "    k=k+i\n",
    "    #print(\"\\n sum of all elements in a list =\",k)\n",
    "print(\"\\n sum of all elements in a list =\",k)\n",
    "print(\"-------------------------------------------------\")\n",
    "print(\"question2\")\n",
    "s=[1,56,89,90,45,23,23,89,1001]\n",
    "k=1\n",
    "for i in s:\n",
    "    k=k*i\n",
    "    #print(\"\\n sum of all elements in a list =\",k)\n",
    "print(\"\\n multiplication of all elements in a list =\",k)\n",
    "print(\"--------------------------------------------------------\")\n",
    "print(\"question3\")\n",
    "\n"
   ]
  },
  {
   "cell_type": "code",
   "execution_count": 6,
   "id": "1e371c21-900d-4198-8700-a543eeeabb72",
   "metadata": {},
   "outputs": [
    {
     "name": "stdout",
     "output_type": "stream",
     "text": [
      "12 < 22\n",
      "12 < 34\n",
      "12 < 56\n",
      "12 < 78\n",
      "12 < 23\n",
      "\n",
      " smallest number is a 12\n"
     ]
    }
   ],
   "source": [
    "#Write a Python program to find smallest number in a list?\n",
    "#4.\tWrite a Python program to find largest number in a list?\n",
    "a=[12,22,34,56,78,23,12]\n",
    "\n",
    "for i in range(0,len(a)):\n",
    "    if(a[0]<a[i]):\n",
    "        print(a[0],\"<\",a[i])\n",
    "        z=a[0]\n",
    "print(\"\\n smallest number is a\",z)"
   ]
  },
  {
   "cell_type": "code",
   "execution_count": 12,
   "id": "5a5844a7-febd-4faf-8c99-222a9f578036",
   "metadata": {},
   "outputs": [
    {
     "name": "stdout",
     "output_type": "stream",
     "text": [
      "\n",
      " largest  number is a 78\n"
     ]
    }
   ],
   "source": [
    "#4.\tWrite a Python program to find largest number in a list?\n",
    "a=[12,22,34,56,78,23,12]\n",
    "maxx=a[0]\n",
    "for i in a:\n",
    "    if(i>maxx):\n",
    "        maxx=i\n",
    "print(\"\\n largest  number is a\",maxx)"
   ]
  },
  {
   "cell_type": "code",
   "execution_count": 34,
   "id": "c9a253a3-0e97-45f1-955e-3aa48f0aa90c",
   "metadata": {},
   "outputs": [
    {
     "name": "stdout",
     "output_type": "stream",
     "text": [
      "\n",
      " first maximium number is = 78\n",
      "[12, 22, 34, 56, 23, 12]\n",
      "\n",
      " second maximium number is = 56\n",
      "-----------------------------------------------------------------------\n",
      "[12, 22, 34, 56, 78, 23, 12]\n",
      "\n",
      " first largest number in a list =  78\n",
      "78\n",
      "[12, 22, 34, 56, 23, 12]\n",
      "12\n",
      "22\n",
      "34\n",
      "56\n",
      "23\n",
      "12\n",
      "\n",
      " second largest number in a list =  56\n"
     ]
    }
   ],
   "source": [
    "#Write a Python program to find second largest number in a list?\n",
    "a=[12,22,34,56,78,23,12]\n",
    "max1=a[0]\n",
    "for i in a:\n",
    "    if(i>max1):\n",
    "        max1=i\n",
    "print(\"\\n first maximium number is =\",max1)\n",
    "b=a.copy()\n",
    "c=[]\n",
    "for k in b:\n",
    "    if(k!=max1):\n",
    "        c.append(k)\n",
    "print(c)\n",
    "second_largest=c[0]\n",
    "for j in c:\n",
    "    if(j>second_largest):\n",
    "        second_largest=j\n",
    "print(\"\\n second maximium number is =\",second_largest)\n",
    "#method2\n",
    "print(\"-----------------------------------------------------------------------\")\n",
    "print(a)\n",
    "ss=a.copy()\n",
    "x=a[0]\n",
    "for i in ss:\n",
    "    if(i>x):\n",
    "        x=i\n",
    "print(\"\\n first largest number in a list = \",x)\n",
    "y=x\n",
    "print(x)\n",
    "z=[]\n",
    "for d in ss:\n",
    "    if(d!=y):\n",
    "        z.append(d)\n",
    "print(z)\n",
    "f=z[0]\n",
    "for q in z:\n",
    "    print(q)\n",
    "    if(q>f):\n",
    "        #print(q,\">\",z[0])\n",
    "        f=q\n",
    "print(\"\\n second largest number in a list = \",f)  "
   ]
  },
  {
   "cell_type": "code",
   "execution_count": 44,
   "id": "e0f66857-61fa-4099-b1ec-f7207aff4071",
   "metadata": {},
   "outputs": [
    {
     "name": "stdout",
     "output_type": "stream",
     "text": [
      "1 largest element in a list =  56\n",
      "1 largest element in a list =  90\n",
      "2 largest element in a list =  56\n"
     ]
    },
    {
     "data": {
      "text/plain": [
       "(90, 56)"
      ]
     },
     "execution_count": 44,
     "metadata": {},
     "output_type": "execute_result"
    }
   ],
   "source": [
    "#Write a Python program to find N largest elements from a list?\n",
    "def nlargest(a):\n",
    "    b=a.copy()\n",
    "    z=b[0]\n",
    "    count=1\n",
    "    for i in b:\n",
    "        if(i>z):\n",
    "            z=i\n",
    "            print(count,\"largest element in a list = \",z)\n",
    "    count=count+1\n",
    "    c=b[0]\n",
    "    for j in b:\n",
    "        if(j!=z):\n",
    "            if(j>c):\n",
    "                c=j\n",
    "                print(count,\"largest element in a list = \",c)\n",
    "    count=count+1\n",
    "    return z,c\n",
    "nlargest([23,56,1,45,34,12,90])"
   ]
  },
  {
   "cell_type": "code",
   "execution_count": 62,
   "id": "d634d9d9-aa6d-4f97-8ee7-73fe51f21ef8",
   "metadata": {},
   "outputs": [
    {
     "name": "stdout",
     "output_type": "stream",
     "text": [
      "original list =  [23, 56, 1, 45, 34, 12, 90, 999, 6677, 5555]\n",
      "largest number in a list =  [6677, 5555, 999, 999, 90, 90, 56, 56, 45, 34]\n"
     ]
    },
    {
     "data": {
      "text/plain": [
       "[6677, 5555, 999, 999, 90, 90, 56, 56, 45, 34]"
      ]
     },
     "execution_count": 62,
     "metadata": {},
     "output_type": "execute_result"
    }
   ],
   "source": [
    "#Write a Python program to find N largest elements from a list?\n",
    "def nlargest(a,n):\n",
    "    print(\"original list = \",a)\n",
    "    for q in range(1,n):\n",
    "        \n",
    "        b=a.copy()\n",
    "        z=b[0]\n",
    "        count=1\n",
    "        p=[]\n",
    "        gg=[]\n",
    "        count=0\n",
    "        for i in b:\n",
    "            #count=0\n",
    "            if(i>z):\n",
    "                z=i\n",
    "                p.append(z)\n",
    "                #print(count,\"largest element in a list = \",z)\n",
    "        count=count+1\n",
    "        #c=b[0]\n",
    "        for j in b:\n",
    "            \n",
    "            if(j!=z):\n",
    "                gg.append(j)\n",
    "                #print(gg)\n",
    "                h=gg[0]\n",
    "                for daa in gg:\n",
    "                    if(j>h):\n",
    "                        h=j\n",
    "                        p.append(h)\n",
    "                    #print(count,\"largest element in a list = \",c)\n",
    "        count=count+1\n",
    "        popi=sorted(p,reverse=True)\n",
    "    print(\"largest number in a list = \",popi)\n",
    "    return popi\n",
    "nlargest([23,56,1,45,34,12,90,999,6677,5555],3)\n",
    "    \n",
    "            \n",
    "    "
   ]
  },
  {
   "cell_type": "code",
   "execution_count": 66,
   "id": "184fad85-de74-4a1d-baf7-64ccc8222429",
   "metadata": {},
   "outputs": [
    {
     "name": "stdout",
     "output_type": "stream",
     "text": [
      "[1, 2, 3, 4, 5, 6, 7, 8, 9, 10, 11, 12, 13, 14, 15, 16, 17, 18, 19, 20, 21, 22, 23, 24, 25, 26, 27, 28, 29, 30, 31, 32, 33, 34, 35, 36, 37, 38, 39, 40, 41, 42, 43, 44, 45, 46, 47, 48, 49, 50, 51, 52, 53, 54, 55, 56, 57, 58, 59, 60, 61, 62, 63, 64, 65, 66, 67, 68, 69, 70, 71, 72, 73, 74, 75, 76, 77, 78, 79, 80, 81, 82, 83, 84, 85, 86, 87, 88, 89, 90, 91, 92, 93, 94, 95, 96, 97, 98, 99]\n",
      "\n",
      " even list =  [2, 4, 6, 8, 10, 12, 14, 16, 18, 20, 22, 24, 26, 28, 30, 32, 34, 36, 38, 40, 42, 44, 46, 48, 50, 52, 54, 56, 58, 60, 62, 64, 66, 68, 70, 72, 74, 76, 78, 80, 82, 84, 86, 88, 90, 92, 94, 96, 98]\n",
      "\n",
      " \n",
      " question 8 \n",
      "\n",
      " odd list =  [1, 3, 5, 7, 9, 11, 13, 15, 17, 19, 21, 23, 25, 27, 29, 31, 33, 35, 37, 39, 41, 43, 45, 47, 49, 51, 53, 55, 57, 59, 61, 63, 65, 67, 69, 71, 73, 75, 77, 79, 81, 83, 85, 87, 89, 91, 93, 95, 97, 99]\n"
     ]
    }
   ],
   "source": [
    "#Write a Python program to print even numbers in a list?\n",
    "#8.\tWrite a Python program to print odd numbers in a List?\n",
    "a=list(range(1,100))\n",
    "print(a)\n",
    "even=[]\n",
    "for i in range(0,len(a)):\n",
    "    if(a[i]%2==0):\n",
    "        even.append(a[i])\n",
    "print(\"\\n even list = \",even)\n",
    "print(\"\\n \\n question 8 \")\n",
    "odd=[]\n",
    "for i in range(0,len(a)):\n",
    "    if(a[i]%2!=0):\n",
    "        odd.append(a[i])\n",
    "print(\"\\n odd list = \",odd)"
   ]
  },
  {
   "cell_type": "code",
   "execution_count": null,
   "id": "ac7239ca-a6a0-4142-b82a-c061a64a1a40",
   "metadata": {},
   "outputs": [],
   "source": [
    "#Write a Python program to Remove empty List from List?\n",
    "#10.\tWrite a Python program to Cloning or Copying a list?\n",
    "#11.\tWrite a Python program to Count occurrences of an element in a list?\"\"\""
   ]
  },
  {
   "cell_type": "code",
   "execution_count": 4,
   "id": "5e20c471-4149-4160-8380-7f05a1828cbd",
   "metadata": {},
   "outputs": [
    {
     "name": "stdout",
     "output_type": "stream",
     "text": [
      "original list =  [1, 'hi', 33, 'how are you', 23.9, 90, []]\n",
      "\n",
      " remove empty list from the list =  [1, 'hi', 33, 'how are you', 23.9, 90]\n"
     ]
    }
   ],
   "source": [
    "##Write a Python program to Remove empty List from List?\n",
    "a=[1,\"hi\",33,\"how are you\",23.90,90,[]]\n",
    "print(\"original list = \",a)\n",
    "aa=[]\n",
    "for i in a:\n",
    "    #print(i)\n",
    "    if(i!=[]):\n",
    "        aa.append(i)\n",
    "print(\"\\n remove empty list from the list = \",aa)\n",
    "        "
   ]
  },
  {
   "cell_type": "code",
   "execution_count": 6,
   "id": "5a0969ae-3f72-4404-a86c-9ef9839a17c1",
   "metadata": {},
   "outputs": [
    {
     "name": "stdout",
     "output_type": "stream",
     "text": [
      "Original List: [4, 8, 2, 10, 15, 18]\n",
      "After Cloning: [4, 8, 2, 10, 15, 18]\n"
     ]
    }
   ],
   "source": [
    "#Write a Python program to Cloning or Copying a list?\n",
    "def Cloning(li1):\n",
    "    li_copy = li1[:]\n",
    "    return li_copy\n",
    "li1 = [4, 8, 2, 10, 15, 18]\n",
    "li2 = Cloning(li1)\n",
    "print(\"Original List:\", li1)\n",
    "print(\"After Cloning:\", li2)"
   ]
  },
  {
   "cell_type": "code",
   "execution_count": 29,
   "id": "45ba2579-3eab-4437-b998-b2f2b0a5c794",
   "metadata": {},
   "outputs": [
    {
     "name": "stdout",
     "output_type": "stream",
     "text": [
      "[1, 2, 2, 3, 3, 3, 4, 4, 5]\n",
      "4 is repeated number of times =  1\n",
      "4 is repeated number of times =  2\n",
      "----------------------------------------------------------------------\n"
     ]
    }
   ],
   "source": [
    "#11.\tWrite a Python program to Count occurrences of an element in a list?\"\"\"\n",
    "a=[1,2,2,3,3,3,4,4,5]\n",
    "print(a)\n",
    "count=1\n",
    "x=4\n",
    "for i in a:\n",
    "    if(i==x):\n",
    "        print(i,\"is repeated number of times = \",count)\n",
    "        count=count+1\n",
    "print(\"----------------------------------------------------------------------\")\n",
    "\"\"\"def count_occurance(a):\n",
    "    p=0\n",
    "    count=1\n",
    "    b=a.copy()\n",
    "    if(p<=len(a)):\n",
    "        x=a[p]\n",
    "        for i in b:\n",
    "            if(i==x):\n",
    "                p=p+1\n",
    "                count=count+1\n",
    "                print(\"\\n repeated number =\",i)\"\"\""
   ]
  },
  {
   "cell_type": "markdown",
   "id": "e3146b79-7536-4c5a-9cae-12bf39d7662e",
   "metadata": {},
   "source": [
    "assignment 7"
   ]
  },
  {
   "cell_type": "code",
   "execution_count": null,
   "id": "858d5f69-2cac-4ef9-86ab-ee22f1c7d4d5",
   "metadata": {},
   "outputs": [],
   "source": [
    "\"\"\"1.\tWrite a Python program to find words which are greater than given length k?\n",
    "2.\tWrite a Python program for removing i-th character from a string?\n",
    "3.\tWrite a Python program to split and join a string?\n",
    "4.\tWrite a Python to check if a given string is binary string or not?\n",
    "5.\tWrite a Python program to find uncommon words from two Strings?\n",
    "6.\tWrite a Python to find all duplicate characters in string?\n",
    "7.\tWrite a Python Program to check if a string contains any special character?\"\"\""
   ]
  },
  {
   "cell_type": "code",
   "execution_count": 14,
   "id": "262e024c-f356-45da-9d6b-3e2be6f4d25a",
   "metadata": {},
   "outputs": [
    {
     "name": "stdout",
     "output_type": "stream",
     "text": [
      "['hello', 'how', 'are', 'you', 'what', 'you', 'are', 'doing']\n",
      "hello\n",
      "how\n",
      "are\n",
      "you\n",
      "what\n",
      "you\n",
      "are\n",
      "doing\n"
     ]
    }
   ],
   "source": [
    "#Write a Python program to find words which are greater than given length k\n",
    "a=\"hello how are you what you are doing\"\n",
    "#a=a.split('')\n",
    "#print(a)\n",
    "b=a.split()\n",
    "print(b)\n",
    "length=3\n",
    "for i in range(0,len(b)):\n",
    "    print(b[i])"
   ]
  },
  {
   "cell_type": "code",
   "execution_count": 4,
   "id": "9820fa46-2da9-4554-969e-89346b5b24aa",
   "metadata": {},
   "outputs": [
    {
     "name": "stdout",
     "output_type": "stream",
     "text": [
      "removing 16 chatacter from a string =  hellohow are you\n"
     ]
    }
   ],
   "source": [
    "#Write a Python program for removing i-th character from a string?\n",
    "a=\"hello how are you\"\n",
    "n=5\n",
    "p=''\n",
    "for i in range(0,len(a)):\n",
    "    if(i!=n):\n",
    "        p=p+a[i]\n",
    "print(\"removing\",i,\"chatacter from a string = \",p)"
   ]
  },
  {
   "cell_type": "code",
   "execution_count": 5,
   "id": "fc177ba6-4a8f-4e9d-82fb-32441fc49055",
   "metadata": {},
   "outputs": [],
   "source": [
    "#Write a Python program to split and join a string?\n",
    "string=\"hello , how are you !!\"\n",
    "def split_string(string):\n",
    " \n",
    "    # Split the string based on space delimiter\n",
    "    list_string = string.split(' ')\n",
    "     \n",
    "    return list_string\n",
    " \n",
    "def join_string(list_string):\n",
    " \n",
    "    # Join the string based on '-' delimiter\n",
    "    string = '-'.join(list_string)\n",
    "     \n",
    "    return string"
   ]
  },
  {
   "cell_type": "code",
   "execution_count": 6,
   "id": "482ff747-0aed-48de-ba78-04015a32fe86",
   "metadata": {},
   "outputs": [
    {
     "data": {
      "text/plain": [
       "['hello', ',', 'how', 'are', 'you', '!!']"
      ]
     },
     "execution_count": 6,
     "metadata": {},
     "output_type": "execute_result"
    }
   ],
   "source": [
    "split_string(string)"
   ]
  },
  {
   "cell_type": "code",
   "execution_count": 7,
   "id": "b39708dc-3325-445e-946b-5f3f2133e02a",
   "metadata": {},
   "outputs": [
    {
     "data": {
      "text/plain": [
       "'h-e-l-l-o- -,- -h-o-w- -a-r-e- -y-o-u- -!-!'"
      ]
     },
     "execution_count": 7,
     "metadata": {},
     "output_type": "execute_result"
    }
   ],
   "source": [
    "join_string(string)"
   ]
  },
  {
   "cell_type": "code",
   "execution_count": 13,
   "id": "b3f11b52-ba39-4322-91b0-d433430e5959",
   "metadata": {},
   "outputs": [],
   "source": [
    "#4.\tWrite a Python to check if a given string is binary string or not?\n",
    "def binarystring_or_not(a):\n",
    "    s={'1','0'}\n",
    "    p=set(a)\n",
    "    #print(s)\n",
    "    if p==s or p=={0} or p=={1}:\n",
    "        print(\"yes! It is the string is binary\")\n",
    "    else:\n",
    "        print('it is not a binary string')\n",
    "        \n",
    "    \n",
    "    "
   ]
  },
  {
   "cell_type": "code",
   "execution_count": 14,
   "id": "b3937bf9-09e1-43fd-81f9-df6c6f49f39c",
   "metadata": {},
   "outputs": [
    {
     "name": "stdout",
     "output_type": "stream",
     "text": [
      "{'0', '1'}\n",
      "it is not a binary string\n"
     ]
    }
   ],
   "source": [
    "binarystring_or_not('2101001010001hello')"
   ]
  },
  {
   "cell_type": "code",
   "execution_count": 15,
   "id": "b9c1274b-24f5-4549-b721-fd51054f0aa8",
   "metadata": {},
   "outputs": [
    {
     "name": "stdout",
     "output_type": "stream",
     "text": [
      "{'0', '1'}\n",
      "yes! It is the string is binary\n"
     ]
    }
   ],
   "source": [
    "binarystring_or_not('101001010001')"
   ]
  },
  {
   "cell_type": "code",
   "execution_count": 16,
   "id": "0b9c6c4c-20b8-4a5c-80ed-65a8749cdeb2",
   "metadata": {},
   "outputs": [
    {
     "name": "stdout",
     "output_type": "stream",
     "text": [
      "{'0', '1'}\n",
      "it is not a binary string\n"
     ]
    }
   ],
   "source": [
    "binarystring_or_not('hello')"
   ]
  },
  {
   "cell_type": "code",
   "execution_count": 21,
   "id": "3dbf422e-1d2a-495a-8c4e-ba5808989695",
   "metadata": {},
   "outputs": [
    {
     "name": "stdout",
     "output_type": "stream",
     "text": [
      "['!', 'else', 'how', 'what', 'are', 'you']\n"
     ]
    }
   ],
   "source": [
    "#5.\tWrite a Python program to find uncommon words from two Strings?\n",
    "a=\"hi how are you\"\n",
    "b=\"hi ! what else \"\n",
    "s1=a.split()\n",
    "s2=b.split()\n",
    "k=set(s1).symmetric_difference(set(s2))\n",
    "print(list(k))"
   ]
  },
  {
   "cell_type": "code",
   "execution_count": null,
   "id": "63171fa5-39f1-48bd-9020-cd66118ad56d",
   "metadata": {},
   "outputs": [],
   "source": [
    "#6.\tWrite a Python to find all duplicate characters in string?\n",
    "#7.\tWrite a Python Program to check if a string contains any special character?\"\"\""
   ]
  },
  {
   "cell_type": "code",
   "execution_count": 32,
   "id": "c8298a45-4147-424a-8e50-a76534d0eb88",
   "metadata": {},
   "outputs": [
    {
     "name": "stdout",
     "output_type": "stream",
     "text": [
      "['u', 'a', 'o', 'k', 'i', 'h', ' ']\n",
      "(e, 3)\n",
      "(l, 4)\n",
      "(o, 3)\n",
      "( , 4)\n",
      "(r, 2)\n",
      "(t, 2)\n",
      "(n, 2)\n"
     ]
    }
   ],
   "source": [
    "#\tWrite a Python to find all duplicate characters in string?\n",
    "a=\"hhhhh aaaaa kkkk i o u\"\n",
    "b=list(set(a))\n",
    "print(b)\n",
    "\"\"\"count=0;\n",
    "k=0\n",
    "for i in range(0,len(a)):\n",
    "    if(count<=len(b)):\n",
    "        if(a[i]==b[count]):\n",
    "            print(a[i],\"--->\",k)\n",
    "            k=k+1\n",
    "            count=count+1\"\"\"\n",
    "from collections import Counter\n",
    "def calc_char_freq(string):\n",
    "    freq_count = Counter(string) # get dictionary with letters as key and frequency as value\n",
    "    for key in freq_count.keys():\n",
    "        if freq_count.get(key) > 1: \n",
    "            print(\"(\" + key + \", \" + str(freq_count.get(key)) + \")\")\n",
    "myStr = 'Hello World. Let’s learn Python'    \n",
    "calc_char_freq(myStr)\n",
    "\n",
    "\n",
    "    \n",
    "    "
   ]
  },
  {
   "cell_type": "code",
   "execution_count": 39,
   "id": "5f96feba-071a-454f-93f7-4de6e82207d0",
   "metadata": {},
   "outputs": [
    {
     "name": "stdout",
     "output_type": "stream",
     "text": [
      "('String is  accepted.', 'Geeks$For$Geeks')\n"
     ]
    }
   ],
   "source": [
    "\t#Write a Python Program to check if a string contains any special character?\n",
    "def check_special_char_ascii(string):\n",
    "    for char in string:\n",
    "        if ord(char) < 48 or (57 < ord(char) < 65) or (90 < ord(char) < 97) or ord(char) > 122:\n",
    "            return \"String is  accepted.\",string\n",
    "    return \"String is not accepted.\"\n",
    " \n",
    "# Example Usage\n",
    "string = \"Geeks$For$Geeks\"\n",
    "print(check_special_char_ascii(string))"
   ]
  },
  {
   "cell_type": "code",
   "execution_count": null,
   "id": "31f9fb44-0287-417e-b71a-dc78619528dd",
   "metadata": {},
   "outputs": [],
   "source": [
    "#ASSIGNMENT 10"
   ]
  },
  {
   "cell_type": "markdown",
   "id": "e336268f-f204-4487-bd20-d74e52970aca",
   "metadata": {},
   "source": [
    "assignment 10\n",
    "1.\tWrite a Python program to find words which are greater than given length k?\n",
    "2.\tWrite a Python program for removing i-th character from a string?\n",
    "3.\tWrite a Python program to split and join a string?\n",
    "4.\tWrite a Python to check if a given string is binary string or not?\n",
    "5.\tWrite a Python program to find uncommon words from two Strings?\n",
    "6.\tWrite a Python to find all duplicate characters in string?\n",
    "7.\tWrite a Python Program to check if a string contains any special character?\n"
   ]
  },
  {
   "cell_type": "code",
   "execution_count": 21,
   "id": "ad77c0fd-6b6e-4ac3-8229-0ddc6baef282",
   "metadata": {},
   "outputs": [
    {
     "name": "stdout",
     "output_type": "stream",
     "text": [
      "hello --->length of word > 3 ------> hello\n",
      "what --->length of word > 3 ------> what\n",
      "doing --->length of word > 3 ------> doing\n"
     ]
    },
    {
     "data": {
      "text/plain": [
       "'          hello          what          doing'"
      ]
     },
     "execution_count": 21,
     "metadata": {},
     "output_type": "execute_result"
    }
   ],
   "source": [
    "#Write a Python program to find words which are greater than given length k?\n",
    "def a(abcd,k):\n",
    "   # z=[]\n",
    "    z=''\n",
    "    aa=abcd.split()\n",
    "    for i in aa:\n",
    "        if(len(i)>k):\n",
    "            print(i,\"--->length of word\",\">\",k,\"------>\",i)\n",
    "            #z.append(i)\n",
    "            z=z+'          '+i\n",
    "    \n",
    "    return z\n",
    "a(\"hi hello how are you what you are doing\",3)"
   ]
  },
  {
   "cell_type": "code",
   "execution_count": 27,
   "id": "f8190a95-51d7-4d5f-b88e-70f691e5923e",
   "metadata": {},
   "outputs": [
    {
     "data": {
      "text/plain": [
       "'hi how ae you !! had to completed leaning javascipt'"
      ]
     },
     "execution_count": 27,
     "metadata": {},
     "output_type": "execute_result"
    }
   ],
   "source": [
    "#Write a Python program for removing i-th character from a string?\n",
    "def removeithchar(abcd,i):\n",
    "    \n",
    "    ss=list(abcd)\n",
    "    ab=''\n",
    "    for k in ss:\n",
    "        if(k==i):\n",
    "            continue\n",
    "        else:\n",
    "            ab=ab+k\n",
    "            #print(ab)\n",
    "    return ab\n",
    "removeithchar('hi how are you !! had to completed learning javascript','r')"
   ]
  },
  {
   "cell_type": "code",
   "execution_count": 32,
   "id": "8f7d98ef-8c57-45e7-966b-e7563aaf595f",
   "metadata": {},
   "outputs": [
    {
     "data": {
      "text/plain": [
       "'   hi   how   are   you   !!   had   to   completed   learning   javascript'"
      ]
     },
     "execution_count": 32,
     "metadata": {},
     "output_type": "execute_result"
    }
   ],
   "source": [
    "#Write a Python program to split and join a string?\n",
    "def splitjoinstring(abcd):\n",
    "    ss=abcd.split()\n",
    "    ab=''\n",
    "    for k in ss:\n",
    "        ab=ab+'   '+k\n",
    "            #print(ab)\n",
    "    return ab\n",
    "splitjoinstring('hi how are you !! had to completed learning javascript')"
   ]
  },
  {
   "cell_type": "markdown",
   "id": "77c0bc61-4716-4679-bc22-e41d3da479bc",
   "metadata": {},
   "source": [
    "#4.\tWrite a Python to check if a given string is binary string or not?\n",
    "\"\"\"def aa(abcd):\n",
    "    d=''\n",
    "    for i in abcd:\n",
    "        #print(i)\n",
    "        if(i=='1' or i=='0'):\n",
    "            d=d+i\n",
    "            #print(\"\\n string is binary = \",d)\n",
    "    return d,\"is binary string\"\n",
    "            \n",
    "aa('233101010101111111111010101210')\"\"\""
   ]
  },
  {
   "cell_type": "code",
   "execution_count": 61,
   "id": "043ee75e-8b77-4815-830f-e87f602a3783",
   "metadata": {},
   "outputs": [
    {
     "name": "stdout",
     "output_type": "stream",
     "text": [
      "Binary String\n",
      "Non Binary String\n"
     ]
    }
   ],
   "source": [
    "#Write a Python to check if a given string is binary string or not?\n",
    "def check(string) :\n",
    "    b = set(string)\n",
    "    s = {'0', '1'}\n",
    "    if s == b or b == {'0'} or b == {'1'}:\n",
    "        print(\"Binary String\")\n",
    "    else :\n",
    "        print(\"Non Binary String\")\n",
    "s1= \"00110101\"\n",
    "# function calling\n",
    "check(s1)\n",
    "s2 = \"1010100200111\"\n",
    "check(s2)"
   ]
  },
  {
   "cell_type": "code",
   "execution_count": 68,
   "id": "4e8e628a-aadb-406b-b98b-6fb45975d1b4",
   "metadata": {},
   "outputs": [
    {
     "data": {
      "text/plain": [
       "'def uncommonwords(a,b):\\n    for i in a:\\n        if i is not b:\\n            print(i)\\nuncommonwords(\"hello hi\",\"hi how are you\")'"
      ]
     },
     "execution_count": 68,
     "metadata": {},
     "output_type": "execute_result"
    }
   ],
   "source": [
    "#Write a Python program to find uncommon words from two Strings?\n",
    "\"\"\"def abcd(a,b):\n",
    "    g=[]\n",
    "    h=[]\n",
    "    for i in a:\n",
    "        for j in b:\n",
    "            if(i!=j):\n",
    "                g.append(i)\n",
    "                h.append(j)\n",
    "    return g,h\n",
    "abcd(\"hello\",\"hi how are you\")\"\"\"\n",
    "\"\"\"def uncommonwords(a,b):\n",
    "    for i in a:\n",
    "        if i is not b:\n",
    "            print(i)\n",
    "uncommonwords(\"hello hi\",\"hi how are you\")\"\"\""
   ]
  },
  {
   "cell_type": "code",
   "execution_count": 70,
   "id": "66c36ad8-789a-48a2-b595-468e16ca606b",
   "metadata": {},
   "outputs": [
    {
     "name": "stdout",
     "output_type": "stream",
     "text": [
      "['Gas', 'Learning', 'for', 'from']\n"
     ]
    }
   ],
   "source": [
    "#Write a Python program to find uncommon words from two Strings?\n",
    "#uncommon words\n",
    "def a(abc,cdef):\n",
    "    s=abc.split()\n",
    "    t=cdef.split()\n",
    "    x=[]\n",
    "    for i in s:\n",
    "        if i not in t:\n",
    "            x.append(i)\n",
    "    for i in t:\n",
    "        if i not in s:\n",
    "            x.append(i)\n",
    "    x=list(set(x))\n",
    "    return x\n",
    "A = \"G for Gas\"\n",
    "B = \"Learning from G\"\n",
    " \n",
    "# Print required answer\n",
    "print(a(A, B))   \n",
    "    "
   ]
  },
  {
   "cell_type": "code",
   "execution_count": 105,
   "id": "435be887-4ddc-468f-ab2d-2d1e4aebd1e1",
   "metadata": {},
   "outputs": [
    {
     "name": "stdout",
     "output_type": "stream",
     "text": [
      "['b', 's']\n"
     ]
    }
   ],
   "source": [
    "#Write a Python to find all duplicate characters in string?\n",
    "\n",
    "a = \"abbbbssiopewrcs\"\n",
    "duplicates = []\n",
    "\n",
    "for i in range(len(a)-1):\n",
    "    if a[i] == a[i+1] and a[i] not in duplicates:\n",
    "        duplicates.append(a[i])\n",
    "\n",
    "print(duplicates)\n",
    "\n",
    "        "
   ]
  },
  {
   "cell_type": "code",
   "execution_count": null,
   "id": "569d1f7a-6fa6-4536-9458-4f08fd8442fa",
   "metadata": {},
   "outputs": [],
   "source": [
    "#assignment 12\n",
    "#1.\tWrite a Python program to Extract Unique values dictionary values?\n",
    "#2.\tWrite a Python program to find the sum of all items in a dictionary?\n",
    "#3.\tWrite a Python program to Merging two Dictionaries?\n",
    "#4.\tWrite a Python program to convert key-values list to flat dictionary?\n",
    "#5.\tWrite a Python program to insertion at the beginning in OrderedDict?\n",
    "#6.\tWrite a Python program to check order of character in string using OrderedDict()?\n",
    "#7.\tWrite a Python program to sort Python Dictionaries by Key or Value?\n"
   ]
  },
  {
   "cell_type": "code",
   "execution_count": 106,
   "id": "be95bb9a-14a4-49c8-be1a-f9d31b80a66c",
   "metadata": {},
   "outputs": [
    {
     "name": "stdout",
     "output_type": "stream",
     "text": [
      "[1, 2, 3]\n"
     ]
    }
   ],
   "source": [
    "def extract_unique_values(dictionary):\n",
    "    unique_values = []\n",
    "    for value in dictionary.values():\n",
    "        if value not in unique_values:\n",
    "            unique_values.append(value)\n",
    "    return unique_values\n",
    "\n",
    "# Example usage\n",
    "my_dict = {'a': 1, 'b': 2, 'c': 1, 'd': 3, 'e': 2}\n",
    "unique_values = extract_unique_values(my_dict)\n",
    "print(unique_values)"
   ]
  },
  {
   "cell_type": "code",
   "execution_count": 107,
   "id": "6cabc00e-788f-4888-943c-019a8426c98a",
   "metadata": {},
   "outputs": [
    {
     "name": "stdout",
     "output_type": "stream",
     "text": [
      "Sum of items: 10\n"
     ]
    }
   ],
   "source": [
    "def sum_of_items(dictionary):\n",
    "    total_sum = sum(dictionary.values())\n",
    "    return total_sum\n",
    "\n",
    "# Example usage\n",
    "my_dict = {'a': 1, 'b': 2, 'c': 3, 'd': 4}\n",
    "total_sum = sum_of_items(my_dict)\n",
    "print(\"Sum of items:\", total_sum)"
   ]
  },
  {
   "cell_type": "code",
   "execution_count": 108,
   "id": "6d27d9be-65cc-4644-9e25-70ba572b51db",
   "metadata": {},
   "outputs": [
    {
     "name": "stdout",
     "output_type": "stream",
     "text": [
      "Merged dictionary: {'a': 1, 'b': 2, 'c': 3, 'd': 4}\n"
     ]
    }
   ],
   "source": [
    "def merge_dictionaries(dict1, dict2):\n",
    "    merged_dict = {**dict1, **dict2}\n",
    "    return merged_dict\n",
    "\n",
    "# Example usage\n",
    "dict1 = {'a': 1, 'b': 2}\n",
    "dict2 = {'c': 3, 'd': 4}\n",
    "merged_dict = merge_dictionaries(dict1, dict2)\n",
    "print(\"Merged dictionary:\", merged_dict)"
   ]
  },
  {
   "cell_type": "code",
   "execution_count": 109,
   "id": "2c639afa-a7a3-4faa-b74d-437cfaa2b213",
   "metadata": {},
   "outputs": [
    {
     "name": "stdout",
     "output_type": "stream",
     "text": [
      "Flat dictionary: {'a': 1, 'b': 2, 'c': 3}\n"
     ]
    }
   ],
   "source": [
    "#Write a Python program to convert key-values list to flat dictionary?\n",
    "def convert_to_flat_dictionary(key_value_list):\n",
    "    flat_dict = {}\n",
    "    for key, value in key_value_list:\n",
    "        flat_dict[key] = value\n",
    "    return flat_dict\n",
    "\n",
    "# Example usage\n",
    "key_value_list = [('a', 1), ('b', 2), ('c', 3)]\n",
    "flat_dict = convert_to_flat_dictionary(key_value_list)\n",
    "print(\"Flat dictionary:\", flat_dict)"
   ]
  },
  {
   "cell_type": "code",
   "execution_count": 114,
   "id": "d5d30015-8e8d-41a3-9e75-99a3a8b64e45",
   "metadata": {},
   "outputs": [
    {
     "name": "stdout",
     "output_type": "stream",
     "text": [
      "Original dictionary :  OrderedDict([('javascript', '4'), ('python', '12')])\n",
      "Enter the key-value pair to be added in the OrderedDict\n"
     ]
    },
    {
     "name": "stdin",
     "output_type": "stream",
     "text": [
      "key :  'hiii'\n",
      "value :  900\n"
     ]
    },
    {
     "name": "stdout",
     "output_type": "stream",
     "text": [
      "Resultant Dictionary : OrderedDict([(\"'hiii'\", '900'), ('javascript', '4'), ('python', '12')])\n"
     ]
    }
   ],
   "source": [
    "#Write a Python program to insertion at the beginning in OrderedDict?\n",
    "from collections import OrderedDict\n",
    "\n",
    "# creating a OrderedDict\n",
    "myDict = OrderedDict([('javascript', '4'), ('python', '12')])\n",
    "print(\"Original dictionary : \", str(myDict))\n",
    "\n",
    "print(\"Enter the key-value pair to be added in the OrderedDict\")\n",
    "key = input(\"key : \")\n",
    "value = input(\"value : \")\n",
    "addedDict = OrderedDict([(key, value)])\n",
    "\n",
    "# Inserting key-value pair at the beginning of the OrderedDict \n",
    "myDict.update({key:value})\n",
    "myDict.move_to_end(key, last = False)\n",
    "\n",
    "# Printing the Resultant dictionary\n",
    "print (\"Resultant Dictionary : \"+str(myDict))"
   ]
  },
  {
   "cell_type": "code",
   "execution_count": 115,
   "id": "0ed517d4-5edc-46aa-ab22-7640ac352d63",
   "metadata": {},
   "outputs": [
    {
     "name": "stdout",
     "output_type": "stream",
     "text": [
      "False\n",
      "True\n"
     ]
    }
   ],
   "source": [
    "#Write a Python program to check order of character in string using OrderedDict()?\n",
    "from collections import OrderedDict \n",
    "def checkOrder(string, pattern): \n",
    "    dic = OrderedDict.fromkeys(string) \n",
    "    ptr = 0\n",
    "    for key,value in dic.items(): \n",
    "        if (key == pattern[ptr]): \n",
    "            ptr = ptr + 1\n",
    "        if (ptr == (len(pattern))): \n",
    "            return 'True'\n",
    "    return 'False'\n",
    "\n",
    "string = 'Study tonight'\n",
    "pattern = 'stu'\n",
    "print (checkOrder(string,pattern))\n",
    "\n",
    "string2= 'Welcome'\n",
    "pattern2= 'cm'\n",
    "print (checkOrder(string2,pattern2)) "
   ]
  },
  {
   "cell_type": "code",
   "execution_count": 116,
   "id": "e875b958-9912-40bb-a9dd-4a78df6e4128",
   "metadata": {},
   "outputs": [
    {
     "name": "stdout",
     "output_type": "stream",
     "text": [
      "{'rajnish': 9, 'ravi': 10, 'sanjeev': 15, 'suraj': 32, 'yash': 2}\n"
     ]
    }
   ],
   "source": [
    "#Write a Python program to sort Python Dictionaries by Key or Value?\n",
    "myDict = {'ravi': 10, 'rajnish': 9,\n",
    "        'sanjeev': 15, 'yash': 2, 'suraj': 32}\n",
    " \n",
    "myKeys = list(myDict.keys())\n",
    "myKeys.sort()\n",
    "sorted_dict = {i: myDict[i] for i in myKeys}\n",
    " \n",
    "print(sorted_dict)"
   ]
  },
  {
   "cell_type": "code",
   "execution_count": null,
   "id": "147fedc0-5166-4628-b460-4656757412cf",
   "metadata": {},
   "outputs": [],
   "source": []
  },
  {
   "cell_type": "code",
   "execution_count": null,
   "id": "38663866-138d-4a90-a832-9f137ecabda5",
   "metadata": {},
   "outputs": [],
   "source": [
    "#assigment 13\n"
   ]
  },
  {
   "cell_type": "code",
   "execution_count": 5,
   "id": "c3e03d19-1645-436c-badd-5f5b579dbc8b",
   "metadata": {},
   "outputs": [
    {
     "name": "stdout",
     "output_type": "stream",
     "text": [
      "Write a program that calculates and prints the value according to the given formula:  \n",
      " Q = Square root of [(2 * C * D)/H] \n",
      " Following are the fixed values of C and H:\n",
      "C is 50. H is 30.\n",
      "D is the variable whose values should be input to your program in a comma-separated sequence.\n",
      "Example\n",
      "Let us assume the following comma separated input sequence is given to the program: \n",
      " 100,150,180 \n",
      " The output of the program should be: \n",
      "18,22,24\n",
      "--------------------------------------------\n"
     ]
    },
    {
     "name": "stdin",
     "output_type": "stream",
     "text": [
      "\n",
      " enter the values of d =  150\n"
     ]
    },
    {
     "name": "stdout",
     "output_type": "stream",
     "text": [
      "\n",
      " output of this program is --\n",
      "100 150.0 180\n"
     ]
    }
   ],
   "source": [
    "#Question 1:\n",
    "print('Write a program that calculates and prints the value according to the given formula:  \\n Q = Square root of [(2 * C * D)/H] \\n Following are the fixed values of C and H:')\n",
    "print('C is 50. H is 30.')\n",
    "print('D is the variable whose values should be input to your program in a comma-separated sequence.')\n",
    "print('Example')\n",
    "print('Let us assume the following comma separated input sequence is given to the program: \\n 100,150,180 \\n The output of the program should be: \\n18,22,24')\n",
    "print(\"--------------------------------------------\")\n",
    "c=100\n",
    "h=180\n",
    "#d...is variable\n",
    "import numpy as np\n",
    "d=float(input('\\n enter the values of d = '))\n",
    "q=np.sqrt((2*c*d)/h)\n",
    "print(\"\\n output of this program is --\")\n",
    "print(c,d,h)"
   ]
  },
  {
   "cell_type": "code",
   "execution_count": 1,
   "id": "ffb0d8ea-a8dd-4abf-96e2-62ee2137adbf",
   "metadata": {},
   "outputs": [
    {
     "name": "stdout",
     "output_type": "stream",
     "text": [
      "Note: i=0,1.., X-1; j=0,1,¡¬Y-1.\n",
      "Example\n",
      "Suppose the following inputs are given to the program:\n",
      "3,5\n",
      "Then, the output of the program should be:\n",
      "[[0, 0, 0, 0, 0], [0, 1, 2, 3, 4], [0, 2, 4, 6, 8]] \n",
      "___________________________________________________________\n"
     ]
    },
    {
     "name": "stdin",
     "output_type": "stream",
     "text": [
      "Enter X and Y separated by a comma:  5,6\n"
     ]
    },
    {
     "name": "stdout",
     "output_type": "stream",
     "text": [
      "[[0, 0, 0, 0, 0, 0], [0, 1, 2, 3, 4, 5], [0, 2, 4, 6, 8, 10], [0, 3, 6, 9, 12, 15], [0, 4, 8, 12, 16, 20]]\n"
     ]
    }
   ],
   "source": [
    "#### print('Question 2:\\n Write a program which takes 2 digits, X,Y as input and generates a 2-dimensional array. The element value in the i-th row and j-th column of the array should be i*j.')\n",
    "print('Note: i=0,1.., X-1; j=0,1,¡¬Y-1.')\n",
    "print('Example')\n",
    "print('Suppose the following inputs are given to the program:')\n",
    "print('3,5')\n",
    "print('Then, the output of the program should be:')\n",
    "print('[[0, 0, 0, 0, 0], [0, 1, 2, 3, 4], [0, 2, 4, 6, 8]] ')\n",
    "print('___________________________________________________________')\n",
    "def generate_2d_array(X, Y):\n",
    "    array_2d = [[i * j for j in range(Y)] for i in range(X)]\n",
    "    return array_2d\n",
    "\n",
    "if __name__ == \"__main__\":\n",
    "    X, Y = map(int, input(\"Enter X and Y separated by a comma: \").split(\",\"))\n",
    "    result = generate_2d_array(X, Y)\n",
    "    print(result)"
   ]
  },
  {
   "cell_type": "code",
   "execution_count": 3,
   "id": "5dcb53c2-b046-4e6e-8921-7caaec968f96",
   "metadata": {},
   "outputs": [
    {
     "name": "stdin",
     "output_type": "stream",
     "text": [
      "Enter a comma-separated sequence of words:  without,hello,bag,world\n"
     ]
    },
    {
     "name": "stdout",
     "output_type": "stream",
     "text": [
      "bag,hello,without,world\n"
     ]
    }
   ],
   "source": [
    "\"\"\"question2\n",
    "Write a program that accepts a comma separated sequence of words as input and prints the words in a comma-separated sequence after sorting them alphabetically.\n",
    "\n",
    "Suppose the following input is supplied to the program:\n",
    "\n",
    "without,hello,bag,world\n",
    "\n",
    "Then, the output should be:\n",
    "\n",
    "bag,hello,without,world\n",
    "\n",
    "\"\"\"\n",
    "input_sequence = input(\"Enter a comma-separated sequence of words: \")\n",
    "words = input_sequence.split(',')\n",
    "words.sort()\n",
    "sorted_sequence = ','.join(words)\n",
    "print(sorted_sequence)"
   ]
  },
  {
   "cell_type": "code",
   "execution_count": 4,
   "id": "f0476c91-dc85-4ecd-9d91-b585fa53fde6",
   "metadata": {},
   "outputs": [
    {
     "name": "stdin",
     "output_type": "stream",
     "text": [
      "Enter a whitespace-separated sequence of words:  hello world and practice makes perfect and hello world again\n"
     ]
    },
    {
     "name": "stdout",
     "output_type": "stream",
     "text": [
      "again and hello makes perfect practice world\n"
     ]
    }
   ],
   "source": [
    "\"\"\"\n",
    "question3\n",
    "Write a program that accepts a sequence of whitespace separated words as input and prints the words after removing all duplicate words and sorting them alphanumerically.\n",
    "\n",
    "Suppose the following input is supplied to the program:\n",
    "\n",
    "hello world and practice makes perfect and hello world again\n",
    "\n",
    "Then, the output should be:\n",
    "\n",
    "again and hello makes perfect practice world\n",
    "ChatGPT\n",
    "You can achieve this in Python by taking the input, splitting it into words, removing duplicates using a set, sorting the words alphabetically, and then joining them back into a whitespace-separated sequence. Here's a program to do that:\n",
    "\n",
    "python\n",
    "Copy code\n",
    "if __name__ == \"__main__\":\n",
    "    input_sequence = input(\"Enter a whitespace-separated sequence of words: \")\n",
    "    words = input_sequence.split()\n",
    "    unique_words = sorted(set(words))\n",
    "    sorted_sequence = ' '.join(unique_words)\n",
    "    print(sorted_sequence)\n",
    "When you run this program and input hello world and practice makes perfect and hello world again, it will produce the following output:\n",
    "\n",
    "Copy code\n",
    "again and hello makes perfect practice world\n",
    "Regenerate \n",
    "\"\"\"\n",
    "input_sequence = input(\"Enter a whitespace-separated sequence of words: \")\n",
    "words = input_sequence.split()\n",
    "unique_words = sorted(set(words))\n",
    "sorted_sequence = ' '.join(unique_words)\n",
    "print(sorted_sequence)"
   ]
  },
  {
   "cell_type": "code",
   "execution_count": 5,
   "id": "46fc0120-e53b-499f-ab81-6ad56870a3e5",
   "metadata": {},
   "outputs": [
    {
     "data": {
      "text/plain": [
       "' A website requires the users to input username and password to register. Write a program to check the validity of password input by users.\\n\\nFollowing are the criteria for checking the password:\\n\\n1. At least 1 letter between [a-z]\\n\\n2. At least 1 number between [0-9]\\n\\n1. At least 1 letter between [A-Z]\\n\\n3. At least 1 character from [$#@]\\n\\n4. Minimum length of transaction password: 6\\n\\n5. Maximum length of transaction password: 12\\n\\nYour program should accept a sequence of comma separated passwords and will check them according to the above criteria. Passwords that match the criteria are to be printed, each separated by a comma.\\n\\nExample\\n\\nIf the following passwords are given as input to the program:\\n\\nABd1234@1,a F1#,2w3E*,2We3345\\n\\nThen, the output of the program should be:\\n\\nABd1234@1\\n'"
      ]
     },
     "execution_count": 5,
     "metadata": {},
     "output_type": "execute_result"
    }
   ],
   "source": [
    "\"\"\"\n",
    "question6\n",
    "A website requires the users to input username and password to register. Write a program to check the validity of password input by users.\n",
    "\n",
    "Following are the criteria for checking the password:\n",
    "\n",
    "1. At least 1 letter between [a-z]\n",
    "\n",
    "2. At least 1 number between [0-9]\n",
    "\n",
    "1. At least 1 letter between [A-Z]\n",
    "\n",
    "3. At least 1 character from [$#@]\n",
    "\n",
    "4. Minimum length of transaction password: 6\n",
    "\n",
    "5. Maximum length of transaction password: 12\n",
    "\n",
    "Your program should accept a sequence of comma separated passwords and will check them according to the above criteria. Passwords that match the criteria are to be printed, each separated by a comma.\n",
    "\n",
    "Example\n",
    "\n",
    "If the following passwords are given as input to the program:\n",
    "\n",
    "ABd1234@1,a F1#,2w3E*,2We3345\n",
    "\n",
    "Then, the output of the program should be:\n",
    "\n",
    "ABd1234@1\n",
    "\"\"\""
   ]
  },
  {
   "cell_type": "markdown",
   "id": "22c78729-91ff-472d-a4a4-e717386b2bd5",
   "metadata": {},
   "source": [
    "\"\"\"#question 6\n",
    "A=list('ABCDEFGHIJKLMNOPQRSTUVWXYZ')\n",
    "a=list('abcdefghijklmnopqrstuvwxyz')\n",
    "n=[0,1,2,3,4,5,6,7,8,9]\n",
    "sp=list('@_!#$%^&*()<>?/\\|}{~:;.[]')\n",
    "print(sp)\n",
    "print(a)\n",
    "print(A)\n",
    "password=input('\\n Enter the password')\n",
    "minpass=6\n",
    "maxpass=12\n",
    "if(minpass<=len(password)<=maxpass):\n",
    "          print(\"\\n password is possible\",\"length of the password is \",len(password))\n",
    "          count=1\n",
    "          upper=False\n",
    "          lower=False\n",
    "          digits=False\n",
    "          special=False\n",
    "          for i in password:\n",
    "            if(i in A ):\n",
    "                upper=True\n",
    "            elif(i in a):\n",
    "                lower=True\n",
    "            elif(i.isdigit() in n):\n",
    "                digits=True\n",
    "            elif(i in sp):\n",
    "                special=True\n",
    "            if upper and lower and digits and special:\n",
    "                print(\"Password contains at least one character from all the lists.\",password)\n",
    "                    \n",
    "                \n",
    "           \n",
    "                \n",
    "                \n",
    "                \n",
    "elif(len(password)<minpass-1):\n",
    "          print(minpass,\"password is not-possible\")\n",
    "elif(len(password)>maxpass+1):\n",
    "          print(maxpass,\"password is not-puuible\")\"\"\"\n",
    "    \n",
    "    \n",
    "        \n",
    "          \n",
    "        \n",
    "\n"
   ]
  },
  {
   "cell_type": "code",
   "execution_count": null,
   "id": "8fead4a4-ec79-4103-b995-04eedf64c8ef",
   "metadata": {},
   "outputs": [],
   "source": [
    "A = list('ABCDEFGHIJKLMNOPQRSTUVWXYZ')\n",
    "a = list('abcdefghijklmnopqrstuvwxyz')\n",
    "n = [0, 1, 2, 3, 4, 5, 6, 7, 8, 9]\n",
    "sp = list('@_!#$%^&*()<>?/\\|}{~:;.[]')\n",
    "\n",
    "print(sp)\n",
    "print(a)\n",
    "print(A)\n",
    "\n",
    "password = input('\\n Enter the password: ')\n",
    "minpass = 6\n",
    "maxpass = 12\n",
    "\n",
    "if minpass <= len(password) <= maxpass:\n",
    "    print(\"\\n Password is possible. Length of the password is \", len(password))\n",
    "    \n",
    "    # Initialize flags to check if the password contains characters from different lists\n",
    "    upper = False\n",
    "    lower = False\n",
    "    digits = False\n",
    "    special = False\n",
    "    \n",
    "    for char in password:\n",
    "        if char in A:\n",
    "            upper = True\n",
    "        elif char in a:\n",
    "            lower = True\n",
    "        elif char.isdigit():\n",
    "            digits = True\n",
    "        elif char in sp:\n",
    "            special = True\n",
    "        \n",
    "        # If all criteria are met, we can stop checking\n",
    "        if upper and lower and digits and special:\n",
    "            break\n",
    "    \n",
    "    # Check if all criteria are met\n",
    "    if upper and lower and digits and special:\n",
    "        print(\"Password contains at least one character from all the lists:\", password)\n",
    "    else:\n",
    "        print(\"Password does not meet the criteria.\")\n",
    "else:\n",
    "    print(\"Password length is not within the allowed range.\")\n"
   ]
  },
  {
   "cell_type": "code",
   "execution_count": null,
   "id": "37f06b6a-0d27-4bdc-aa03-6ef03e42e585",
   "metadata": {},
   "outputs": [],
   "source": []
  },
  {
   "cell_type": "code",
   "execution_count": null,
   "id": "a0cf30a5-410a-4770-9fdc-98077c589c9c",
   "metadata": {},
   "outputs": [],
   "source": []
  },
  {
   "cell_type": "code",
   "execution_count": null,
   "id": "3ca61477-e3f6-4eaa-b838-78e4caaa159a",
   "metadata": {},
   "outputs": [],
   "source": [
    "import re\n",
    "\n",
    "def is_valid_password(password):\n",
    "    if len(password) < 6 or len(password) > 12:\n",
    "        return False\n",
    "    \n",
    "    # Check if the password contains at least one lowercase letter [a-z]\n",
    "    if not re.search(r'[a-z]', password):\n",
    "        return False\n",
    "    \n",
    "    # Check if the password contains at least one uppercase letter [A-Z]\n",
    "    if not re.search(r'[A-Z]', password):\n",
    "        return False\n",
    "    \n",
    "    # Check if the password contains at least one digit [0-9]\n",
    "    if not re.search(r'[0-9]', password):\n",
    "        return False\n",
    "    \n",
    "    # Check if the password contains at least one special character [$#@]\n",
    "    if not re.search(r'[$#@]', password):\n",
    "        return False\n",
    "    \n",
    "    return True\n",
    "\n",
    "def main():\n",
    "    passwords = input(\"Enter comma separated passwords: \")\n",
    "    password_list = passwords.split(',')\n",
    "    \n",
    "    valid_passwords = [password for password in password_list if is_valid_password(password)]\n",
    "    print(','.join(valid_passwords))\n",
    "\n",
    "if __name__ == \"__main__\":\n",
    "    main()\n"
   ]
  },
  {
   "cell_type": "code",
   "execution_count": null,
   "id": "282940c2-eb54-47bf-abff-7f5722262612",
   "metadata": {},
   "outputs": [],
   "source": [
    "\"\"\"\n",
    "question6\n",
    "A website requires the users to input username and password to register. Write a program to check the validity of password input by users.\n",
    "\n",
    "Following are the criteria for checking the password:\n",
    "\n",
    "1. At least 1 letter between [a-z]\n",
    "\n",
    "2. At least 1 number between [0-9]\n",
    "\n",
    "1. At least 1 letter between [A-Z]\n",
    "\n",
    "3. At least 1 character from [$#@]\n",
    "\n",
    "4. Minimum length of transaction password: 6\n",
    "\n",
    "5. Maximum length of transaction password: 12\n",
    "\n",
    "Your program should accept a sequence of comma separated passwords and will check them according to the above criteria. Passwords that match the criteria are to be printed, each separated by a comma.\n",
    "\n",
    "Example\n",
    "\n",
    "If the following passwords are given as input to the program:\n",
    "\n",
    "ABd1234@1,a F1#,2w3E*,2We3345\n",
    "\n",
    "Then, the output of the program should be:\n",
    "\n",
    "ABd1234@1\n",
    "\"\"\""
   ]
  },
  {
   "cell_type": "code",
   "execution_count": null,
   "id": "345e0f84-c9b9-4695-ad15-75d46fe2e578",
   "metadata": {},
   "outputs": [
    {
     "name": "stdout",
     "output_type": "stream",
     "text": [
      "['A', 'B', 'C', 'D', 'E', 'F', 'G', 'H', 'I', 'J', 'K', 'L', 'M', 'N', 'O', 'P', 'Q', 'R', 'S', 'T', 'U', 'V', 'W', 'X', 'Y', 'Z'] \n",
      " ['a', 'b', 'c', 'd', 'e', 'f', 'g', 'h', 'i', 'j', 'k', 'l', 'm', 'n', 'o', 'p', 'q', 'r', 's', 't', 'u', 'v', 'w', 'x', 'y', 'z'] \n",
      " [0, 1, 2, 3, 4, 5, 6, 7, 8, 9] \n",
      " ['@', '_', '!', '#', '$', '%', '^', '&', '*', '(', ')', '<', '>', '?', '/', '\\\\', '|', '}', '{', '~', ':', ';', '.', '[', ']']\n"
     ]
    }
   ],
   "source": [
    "#question 6\n",
    "A = list('ABCDEFGHIJKLMNOPQRSTUVWXYZ')\n",
    "a = list('abcdefghijklmnopqrstuvwxyz')\n",
    "n = str([0, 1, 2, 3, 4, 5, 6, 7, 8, 9])\n",
    "sp = list('@_!#$%^&*()<>?/\\|}{~:;.[]')\n",
    "print(A,\"\\n\",a,\"\\n\",n,\"\\n\",sp)\n",
    "password=input(\"enter the password is =\")\n",
    "c1=0\n",
    "c2=0\n",
    "c3=0\n",
    "c4=0\n",
    "for i in password:\n",
    "    if i in A:\n",
    "        c1=1\n",
    "        print(\"\\n pass word contain Captal letters also = \",i)\n",
    "    elif i in a:\n",
    "        c2=2\n",
    "        print(\"\\n password word conmtain small letter also =\",i)\n",
    "    elif i in n:\n",
    "        c3=3\n",
    "        print(\"\\n password contains numbers also =\",i)\n",
    "    elif i in sp:\n",
    "        c4=4\n",
    "        print(\"\\n password contain special characters also =\",i)\n",
    "    #if(c1==1 and c2==2 and c3==3 and c4==4):\n",
    "        #print(\"\\n password contain Captial,small letters, special characters and number also password is = \",password,c1,c2,c3,c4)\n",
    "    \n",
    "    #if(i in A and i in a and n and sp):\n",
    "        #print(\"\\n password contain Captial,small letters, special characters and number also password is = \",password)\n",
    "print(\"\\n what are values of count after ther loop -----> c1=\",c1,\"c2=\",c2,\"c3=\",c3,\"c4=\",c4)\n",
    "if(c1==1 and c2==2 and c3==3 and c4==4):\n",
    "    print(\"\\n password contain Captial,small letters, special characters and number also password is = \",password,c1,c2,c3,c4)\n",
    "else:\n",
    "    print(\"\\n please enter the password with captial ,small letters and special characetrs\")\n",
    "    "
   ]
  },
  {
   "cell_type": "code",
   "execution_count": 16,
   "id": "8ae157a2-388d-4052-906a-b4e977ed5cae",
   "metadata": {},
   "outputs": [
    {
     "name": "stdin",
     "output_type": "stream",
     "text": [
      "\n",
      " Enter the password:  Q1223@abcd\n"
     ]
    },
    {
     "name": "stdout",
     "output_type": "stream",
     "text": [
      "\n",
      " Password is possible. Length of the password is  10\n",
      "\n",
      " pass word contain Captal letters also =  Q\n",
      "\n",
      " password contains numbers also = 1\n",
      "\n",
      " password contains numbers also = 2\n",
      "\n",
      " password contains numbers also = 2\n",
      "\n",
      " password contains numbers also = 3\n",
      "\n",
      " password contain special characters also = @\n",
      "\n",
      " password word conmtain small letter also = a\n",
      "\n",
      " password word conmtain small letter also = b\n",
      "\n",
      " password word conmtain small letter also = c\n",
      "\n",
      " password word conmtain small letter also = d\n",
      "\n",
      " password contain Captial,small letters, special characters and number also password is =  Q1223@abcd 1 2 3 4\n"
     ]
    }
   ],
   "source": [
    "#question 6\n",
    "A = list('ABCDEFGHIJKLMNOPQRSTUVWXYZ')\n",
    "a = list('abcdefghijklmnopqrstuvwxyz')\n",
    "n = str([0, 1, 2, 3, 4, 5, 6, 7, 8, 9])\n",
    "sp = list('@_!#$%^&*()<>?/\\|}{~:;.[]')\n",
    "password = input('\\n Enter the password: ')\n",
    "minpass = 6\n",
    "maxpass = 12\n",
    "if minpass <= len(password) <= maxpass:\n",
    "    print(\"\\n Password is possible. Length of the password is \", len(password))\n",
    "    c1=0\n",
    "    c2=0\n",
    "    c3=0\n",
    "    c4=0\n",
    "    for i in password:\n",
    "        if i in A:\n",
    "            c1=1\n",
    "            print(\"\\n pass word contain Captal letters also = \",i)\n",
    "        elif i in a:\n",
    "            c2=2\n",
    "            print(\"\\n password word conmtain small letter also =\",i)\n",
    "        elif i in n:\n",
    "            c3=3\n",
    "            print(\"\\n password contains numbers also =\",i)\n",
    "        elif i in sp:\n",
    "            c4=4\n",
    "            print(\"\\n password contain special characters also =\",i)\n",
    "    #if(c1==1 and c2==2 and c3==3 and c4==4):\n",
    "        #print(\"\\n password contain Captial,small letters, special characters and number also password is = \",password,c1,c2,c3,c4)\n",
    "    \n",
    "    #if(i in A and i in a and n and sp):\n",
    "        #print(\"\\n password contain Captial,small letters, special characters and number also password is = \",password)\n",
    "    \n",
    "    if(c1==1 and c2==2 and c3==3 and c4==4):\n",
    "        print(\"\\n password contain Captial,small letters, special characters and number also password is = \",password,c1,c2,c3,c4)\n",
    "    else:\n",
    "        print(\"\\n please enter the password with captial ,small letters and special characetrs\")\n",
    "else:\n",
    "    print(\"\\n password of this\",len(password),\"is not possible password must be in minimum length of 6 and maximium length of 12\")\n",
    "    \n",
    "    "
   ]
  },
  {
   "cell_type": "code",
   "execution_count": null,
   "id": "aaedd927-2c1b-4c64-bb71-11df18f23fe1",
   "metadata": {},
   "outputs": [
    {
     "name": "stdin",
     "output_type": "stream",
     "text": [
      "\n",
      " Enter the password:  qwwe12\n"
     ]
    },
    {
     "name": "stdout",
     "output_type": "stream",
     "text": [
      "\n",
      " Password is possible. Length of the password is  6\n",
      "\n",
      " password word conmtain small letter also = q\n",
      "\n",
      " password word conmtain small letter also = w\n",
      "\n",
      " password word conmtain small letter also = w\n",
      "\n",
      " password word conmtain small letter also = e\n",
      "\n",
      " password contains numbers also = 1\n",
      "\n",
      " password contains numbers also = 2\n",
      "\n",
      " please enter the password with captial ,small letters and special characetrs\n"
     ]
    },
    {
     "name": "stdin",
     "output_type": "stream",
     "text": [
      "\n",
      " Enter the password:  5556\n",
      "\n",
      " Enter the password:  666\n",
      "\n",
      " Enter the password:  8889\n",
      "\n",
      " Enter the password:  9999\n",
      "\n",
      " Enter the password:  0000\n",
      "\n",
      " Enter the password:  8888\n",
      "\n",
      " Enter the password:  99998\n"
     ]
    }
   ],
   "source": [
    "attempts=0\n",
    "maxattempts=5\n",
    "#question 6\n",
    "A = list('ABCDEFGHIJKLMNOPQRSTUVWXYZ')\n",
    "a = list('abcdefghijklmnopqrstuvwxyz')\n",
    "n = str([0, 1, 2, 3, 4, 5, 6, 7, 8, 9])\n",
    "sp = list('@_!#$%^&*()<>?/\\|}{~:;.[]')\n",
    "while(attempts<=maxattempts):\n",
    "    #question 6\n",
    "    A = list('ABCDEFGHIJKLMNOPQRSTUVWXYZ')\n",
    "    a = list('abcdefghijklmnopqrstuvwxyz')\n",
    "    n = str([0, 1, 2, 3, 4, 5, 6, 7, 8, 9])\n",
    "    sp = list('@_!#$%^&*()<>?/\\|}{~:;.[]')\n",
    "    password = input('\\n Enter the password: ')\n",
    "    minpass = 6\n",
    "    maxpass = 12\n",
    "    if minpass <= len(password) <= maxpass:\n",
    "        print(\"\\n Password is possible. Length of the password is \", len(password))\n",
    "        c1=0\n",
    "        c2=0\n",
    "        c3=0\n",
    "        c4=0\n",
    "        for i in password:\n",
    "            if i in A:\n",
    "                c1=1\n",
    "                print(\"\\n pass word contain Captal letters also = \",i)\n",
    "            elif i in a:\n",
    "                c2=2\n",
    "                print(\"\\n password word conmtain small letter also =\",i)\n",
    "            elif i in n:\n",
    "                c3=3\n",
    "                print(\"\\n password contains numbers also =\",i)\n",
    "            elif i in sp:\n",
    "                c4=4\n",
    "                print(\"\\n password contain special characters also =\",i)\n",
    "    #if(c1==1 and c2==2 and c3==3 and c4==4):\n",
    "        #print(\"\\n password contain Captial,small letters, special characters and number also password is = \",password,c1,c2,c3,c4)\n",
    "    \n",
    "    #if(i in A and i in a and n and sp):\n",
    "        #print(\"\\n password contain Captial,small letters, special characters and number also password is = \",password)\n",
    "    \n",
    "        if(c1==1 and c2==2 and c3==3 and c4==4):\n",
    "            count=1\n",
    "            attempt=0\n",
    "            print(\"\\n password contain Captial,small letters, special characters and number also password is = \",password,c1,c2,c3,c4)\n",
    "        else:\n",
    "        \n",
    "            print(\"\\n please enter the password with captial ,small letters and special characetrs\")\n",
    "    else:\n",
    "        if(attempts>=1):\n",
    "            attempts=attempts+1\n",
    "            print(\"\\n password of this\",len(password),\"is not possible password must be in minimum length of 6 and maximium length of 12\")\n",
    "    \n",
    "    "
   ]
  },
  {
   "cell_type": "markdown",
   "id": "e9cb128d-d60a-4d37-afb5-a02f768017ad",
   "metadata": {},
   "source": [
    "#### without while loop maxium number of attempts..\n",
    "correct=1\n",
    "wrongpass=0\n",
    "maxattempts=5\n",
    "if(correct==1 or wrongpass<=5):\n",
    "    A = list('ABCDEFGHIJKLMNOPQRSTUVWXYZ')\n",
    "    a = list('abcdefghijklmnopqrstuvwxyz')\n",
    "    n = str([0, 1, 2, 3, 4, 5, 6, 7, 8, 9])\n",
    "    sp = list('@_!#$%^&*()<>?/\\|}{~:;.[]')\n",
    "    password = input('\\n Enter the password: ')\n",
    "    minpass = 6\n",
    "    maxpass = 12\n",
    "    if minpass <= len(password) <= maxpass:\n",
    "        correct=1\n",
    "        print(\"\\n Password is possible. Length of the password is \", len(password))\n",
    "        c1=0\n",
    "        c2=0\n",
    "        c3=0\n",
    "        c4=0\n",
    "        for i in password:\n",
    "            if i in A:\n",
    "                c1=1\n",
    "                print(\"\\n pass word contain Captal letters also = \",i)\n",
    "            elif i in a:\n",
    "                c2=2\n",
    "                print(\"\\n password word conmtain small letter also =\",i)\n",
    "            elif i in n:\n",
    "                c3=3\n",
    "                print(\"\\n password contains numbers also =\",i)\n",
    "            elif i in sp:\n",
    "                c4=4\n",
    "                print(\"\\n password contain special characters also =\",i)\n",
    "    \n",
    "        if(c1==1 and c2==2 and c3==3 and c4==4):\n",
    "            print(\"\\n password contain Captial,small letters, special characters and number also password is = \",password,c1,c2,c3,c4)\n",
    "        else:\n",
    "            print(\"\\n please enter the password with captial ,small letters and special characetrs\")\n",
    "    else:\n",
    "        wrongpass=wrongpass+1\n",
    "        print(\"\\n password of this\",len(password),\"is not possible password must be in minimum length of 6 and maximium length of 12\")\n",
    "else:\n",
    "    wrongpass=wrongpass+1\n",
    "    print(\"\\n please enter correct format password=\",password,\"---->\",\"number of time attempted =\",wrongpass)\n",
    "    \n",
    "    "
   ]
  },
  {
   "cell_type": "code",
   "execution_count": 5,
   "id": "7e80c01a-7263-4c07-96ec-67ab80e27930",
   "metadata": {},
   "outputs": [
    {
     "name": "stdin",
     "output_type": "stream",
     "text": [
      "\n",
      " Enter the password:  122\n"
     ]
    },
    {
     "name": "stdout",
     "output_type": "stream",
     "text": [
      "\n",
      " The password length is not possible. The password must be between 6 and 12 characters.\n"
     ]
    },
    {
     "name": "stdin",
     "output_type": "stream",
     "text": [
      "\n",
      " Enter the password:  22\n"
     ]
    },
    {
     "name": "stdout",
     "output_type": "stream",
     "text": [
      "\n",
      " The password length is not possible. The password must be between 6 and 12 characters.\n"
     ]
    },
    {
     "name": "stdin",
     "output_type": "stream",
     "text": [
      "\n",
      " Enter the password:  \n"
     ]
    },
    {
     "name": "stdout",
     "output_type": "stream",
     "text": [
      "\n",
      " The password length is not possible. The password must be between 6 and 12 characters.\n"
     ]
    },
    {
     "name": "stdin",
     "output_type": "stream",
     "text": [
      "\n",
      " Enter the password:  2222\n"
     ]
    },
    {
     "name": "stdout",
     "output_type": "stream",
     "text": [
      "\n",
      " The password length is not possible. The password must be between 6 and 12 characters.\n"
     ]
    },
    {
     "name": "stdin",
     "output_type": "stream",
     "text": [
      "\n",
      " Enter the password:  222\n"
     ]
    },
    {
     "name": "stdout",
     "output_type": "stream",
     "text": [
      "\n",
      " The password length is not possible. The password must be between 6 and 12 characters.\n"
     ]
    },
    {
     "name": "stdin",
     "output_type": "stream",
     "text": [
      "\n",
      " Enter the password:  2233\n"
     ]
    },
    {
     "name": "stdout",
     "output_type": "stream",
     "text": [
      "\n",
      " The password length is not possible. The password must be between 6 and 12 characters.\n"
     ]
    },
    {
     "name": "stdin",
     "output_type": "stream",
     "text": [
      "\n",
      " Enter the password:  2223\n"
     ]
    },
    {
     "name": "stdout",
     "output_type": "stream",
     "text": [
      "\n",
      " The password length is not possible. The password must be between 6 and 12 characters.\n"
     ]
    },
    {
     "name": "stdin",
     "output_type": "stream",
     "text": [
      "\n",
      " Enter the password:  2223\n"
     ]
    },
    {
     "name": "stdout",
     "output_type": "stream",
     "text": [
      "\n",
      " The password length is not possible. The password must be between 6 and 12 characters.\n"
     ]
    },
    {
     "name": "stdin",
     "output_type": "stream",
     "text": [
      "\n",
      " Enter the password:  2222\n"
     ]
    },
    {
     "name": "stdout",
     "output_type": "stream",
     "text": [
      "\n",
      " The password length is not possible. The password must be between 6 and 12 characters.\n"
     ]
    },
    {
     "name": "stdin",
     "output_type": "stream",
     "text": [
      "\n",
      " Enter the password:  222\n"
     ]
    },
    {
     "name": "stdout",
     "output_type": "stream",
     "text": [
      "\n",
      " The password length is not possible. The password must be between 6 and 12 characters.\n"
     ]
    },
    {
     "name": "stdin",
     "output_type": "stream",
     "text": [
      "\n",
      " Enter the password:  Qw233@111\n"
     ]
    },
    {
     "name": "stdout",
     "output_type": "stream",
     "text": [
      "\n",
      " Password is possible. Length of the password is  9\n",
      "\n",
      " pass word contain Capital letters also =  Q\n",
      "\n",
      " password word contain small letters also = w\n",
      "\n",
      " password contains numbers also = 2\n",
      "\n",
      " password contains numbers also = 3\n",
      "\n",
      " password contains numbers also = 3\n",
      "\n",
      " password contains special characters also = @\n",
      "\n",
      " password contains numbers also = 1\n",
      "\n",
      " password contains numbers also = 1\n",
      "\n",
      " password contains numbers also = 1\n",
      "\n",
      " password contains Capital, small letters, special characters, and numbers.\n"
     ]
    }
   ],
   "source": [
    "#question6\n",
    "correct = 1\n",
    "wrongpass = 0\n",
    "maxattempts = 5\n",
    "\n",
    "while (correct == 1 or wrongpass < maxattempts):\n",
    "    A = list('ABCDEFGHIJKLMNOPQRSTUVWXYZ')\n",
    "    a = list('abcdefghijklmnopqrstuvwxyz')\n",
    "    n = str([0, 1, 2, 3, 4, 5, 6, 7, 8, 9])\n",
    "    sp = list('@_!#$%^&*()<>?/\\|}{~:;.[]')\n",
    "\n",
    "    password = input('\\n Enter the password: ')\n",
    "    minpass = 6\n",
    "    maxpass = 12\n",
    "\n",
    "    if minpass <= len(password) <= maxpass:\n",
    "        correct = 1\n",
    "        print(\"\\n Password is possible. Length of the password is \", len(password))\n",
    "        c1 = 0\n",
    "        c2 = 0\n",
    "        c3 = 0\n",
    "        c4 = 0\n",
    "\n",
    "        for i in password:\n",
    "            if i in A:\n",
    "                c1 = 1\n",
    "                print(\"\\n pass word contain Capital letters also = \", i)\n",
    "            elif i in a:\n",
    "                c2 = 2\n",
    "                print(\"\\n password word contain small letters also =\", i)\n",
    "            elif i in n:\n",
    "                c3 = 3\n",
    "                print(\"\\n password contains numbers also =\", i)\n",
    "            elif i in sp:\n",
    "                c4 = 4\n",
    "                print(\"\\n password contains special characters also =\", i)\n",
    "\n",
    "        if c1 == 1 and c2 == 2 and c3 == 3 and c4 == 4:\n",
    "            print(\"\\n password contains Capital, small letters, special characters, and numbers.\")\n",
    "            break\n",
    "        else:\n",
    "            print(\"\\n Please enter a password with capital letters, small letters, and special characters.\")\n",
    "    else:\n",
    "        wrongpass = wrongpass + 1\n",
    "        print(\"\\n The password length is not possible. The password must be between 6 and 12 characters.\")\n",
    "\n",
    "if wrongpass == maxattempts:\n",
    "    print(\"\\n Maximum number of attempts reached. Access denied.\")\n"
   ]
  },
  {
   "cell_type": "markdown",
   "id": "93b00080-d97f-4e01-8999-e2b7084af437",
   "metadata": {},
   "source": [
    "correct = 1\n",
    "wrongpass = 0\n",
    "maxattempts = 5\n",
    "\n",
    "if(correct == 1 or wrongpass < maxattempts):\n",
    "    A = list('ABCDEFGHIJKLMNOPQRSTUVWXYZ')\n",
    "    a = list('abcdefghijklmnopqrstuvwxyz')\n",
    "    n = str([0, 1, 2, 3, 4, 5, 6, 7, 8, 9])\n",
    "    sp = list('@_!#$%^&*()<>?/\\|}{~:;.[]')\n",
    "\n",
    "    password = input('\\n Enter the password: ')\n",
    "    minpass = 6\n",
    "    maxpass = 12\n",
    "\n",
    "    if minpass <= len(password) <= maxpass:\n",
    "        correct = 1\n",
    "        print(\"\\n Password is possible. Length of the password is \", len(password))\n",
    "        c1 = 0\n",
    "        c2 = 0\n",
    "        c3 = 0\n",
    "        c4 = 0\n",
    "\n",
    "        for i in password:\n",
    "            if i in A:\n",
    "                c1 = 1\n",
    "                print(\"\\n pass word contain Capital letters also = \", i)\n",
    "            elif i in a:\n",
    "                c2 = 2\n",
    "                print(\"\\n password word contain small letters also =\", i)\n",
    "            elif i in n:\n",
    "                c3 = 3\n",
    "                print(\"\\n password contains numbers also =\", i)\n",
    "            elif i in sp:\n",
    "                c4 = 4\n",
    "                print(\"\\n password contains special characters also =\", i)\n",
    "\n",
    "        if c1 == 1 and c2 == 2 and c3 == 3 and c4 == 4:\n",
    "            print(\"\\n password contains Capital, small letters, special characters, and numbers.\")\n",
    "            #break\n",
    "        else:\n",
    "            print(\"\\n Please enter a password with capital letters, small letters, and special characters.\")\n",
    "    else:\n",
    "        wrongpass = wrongpass + 1\n",
    "        print(\"\\n The password length is not possible. The password must be between 6 and 12 characters.\")\n",
    "\n",
    "if wrongpass == maxattempts:\n",
    "    print(\"\\n Maximum number of attempts reached. Access denied.\")\n"
   ]
  },
  {
   "cell_type": "code",
   "execution_count": null,
   "id": "c31d1b19-8a08-4428-a6f2-5fea676b2392",
   "metadata": {},
   "outputs": [
    {
     "name": "stdin",
     "output_type": "stream",
     "text": [
      "\n",
      " Enter the password:  12\n"
     ]
    },
    {
     "name": "stdout",
     "output_type": "stream",
     "text": [
      "\n",
      " The password length is not possible. The password must be between 6 and 12 characters. --number of attempts is--> 1\n"
     ]
    },
    {
     "name": "stdin",
     "output_type": "stream",
     "text": [
      "\n",
      " Enter the password:  2334\n"
     ]
    },
    {
     "name": "stdout",
     "output_type": "stream",
     "text": [
      "\n",
      " The password length is not possible. The password must be between 6 and 12 characters. --number of attempts is--> 2\n"
     ]
    },
    {
     "name": "stdin",
     "output_type": "stream",
     "text": [
      "\n",
      " Enter the password:  2133q\n"
     ]
    },
    {
     "name": "stdout",
     "output_type": "stream",
     "text": [
      "\n",
      " The password length is not possible. The password must be between 6 and 12 characters. --number of attempts is--> 3\n"
     ]
    },
    {
     "name": "stdin",
     "output_type": "stream",
     "text": [
      "\n",
      " Enter the password:  add2A\n"
     ]
    },
    {
     "name": "stdout",
     "output_type": "stream",
     "text": [
      "\n",
      " The password length is not possible. The password must be between 6 and 12 characters. --number of attempts is--> 4\n"
     ]
    },
    {
     "name": "stdin",
     "output_type": "stream",
     "text": [
      "\n",
      " Enter the password:  wwwee\n"
     ]
    },
    {
     "name": "stdout",
     "output_type": "stream",
     "text": [
      "\n",
      " The password length is not possible. The password must be between 6 and 12 characters. --number of attempts is--> 5\n"
     ]
    },
    {
     "name": "stdin",
     "output_type": "stream",
     "text": [
      "\n",
      " Enter the password:  ss\n"
     ]
    },
    {
     "name": "stdout",
     "output_type": "stream",
     "text": [
      "\n",
      " The password length is not possible. The password must be between 6 and 12 characters. --number of attempts is--> 6\n"
     ]
    },
    {
     "name": "stdin",
     "output_type": "stream",
     "text": [
      "\n",
      " Enter the password:  sss\n"
     ]
    },
    {
     "name": "stdout",
     "output_type": "stream",
     "text": [
      "\n",
      " The password length is not possible. The password must be between 6 and 12 characters. --number of attempts is--> 7\n"
     ]
    },
    {
     "name": "stdin",
     "output_type": "stream",
     "text": [
      "\n",
      " Enter the password:  sss\n"
     ]
    },
    {
     "name": "stdout",
     "output_type": "stream",
     "text": [
      "\n",
      " The password length is not possible. The password must be between 6 and 12 characters. --number of attempts is--> 8\n"
     ]
    },
    {
     "name": "stdin",
     "output_type": "stream",
     "text": [
      "\n",
      " Enter the password:  sss\n"
     ]
    },
    {
     "name": "stdout",
     "output_type": "stream",
     "text": [
      "\n",
      " The password length is not possible. The password must be between 6 and 12 characters. --number of attempts is--> 9\n"
     ]
    },
    {
     "name": "stdin",
     "output_type": "stream",
     "text": [
      "\n",
      " Enter the password:  aaa\n"
     ]
    },
    {
     "name": "stdout",
     "output_type": "stream",
     "text": [
      "\n",
      " The password length is not possible. The password must be between 6 and 12 characters. --number of attempts is--> 10\n"
     ]
    }
   ],
   "source": [
    "#question 6\n",
    "correct = 1\n",
    "wrongpass = 0\n",
    "maxattempts = 5\n",
    "\n",
    "while (correct == 1 or wrongpass < maxattempts):\n",
    "    A = list('ABCDEFGHIJKLMNOPQRSTUVWXYZ')\n",
    "    a = list('abcdefghijklmnopqrstuvwxyz')\n",
    "    n = str([0, 1, 2, 3, 4, 5, 6, 7, 8, 9])\n",
    "    sp = list('@_!#$%^&*()<>?/\\|}{~:;.[]')\n",
    "\n",
    "    password = input('\\n Enter the password: ')\n",
    "    minpass = 6\n",
    "    maxpass = 12\n",
    "\n",
    "    if minpass <= len(password) <= maxpass:\n",
    "        correct = 1\n",
    "        print(\"\\n Password is possible. Length of the password is \", len(password))\n",
    "        c1 = 0\n",
    "        c2 = 0\n",
    "        c3 = 0\n",
    "        c4 = 0\n",
    "\n",
    "        for i in password:\n",
    "            if i in A:\n",
    "                c1 = 1\n",
    "                print(\"\\n pass word contain Capital letters also = \", i)\n",
    "            elif i in a:\n",
    "                c2 = 2\n",
    "                print(\"\\n password word contain small letters also =\", i)\n",
    "            elif i in n:\n",
    "                c3 = 3\n",
    "                print(\"\\n password contains numbers also =\", i)\n",
    "            elif i in sp:\n",
    "                c4 = 4\n",
    "                print(\"\\n password contains special characters also =\", i)\n",
    "\n",
    "        if c1 == 1 and c2 == 2 and c3 == 3 and c4 == 4:\n",
    "            print(\"\\n password contains Capital, small letters, special characters, and numbers.\")\n",
    "            break\n",
    "        else:\n",
    "            print(\"\\n Please enter a password with capital letters, small letters, and special characters.\")\n",
    "    else:\n",
    "        wrongpass = wrongpass + 1\n",
    "        print(\"\\n The password length is not possible. The password must be between 6 and 12 characters.\",\"--number of attempts is-->\",wrongpass)\n",
    "\n",
    "if wrongpass == maxattempts:\n",
    "    print(\"\\n Maximum number of attempts reached. Access denied.\")\n"
   ]
  },
  {
   "cell_type": "markdown",
   "id": "d7e4996e-f9c3-4b28-ac0f-dfd2e6efed70",
   "metadata": {},
   "source": [
    "#question 6\n",
    "correct = 1\n",
    "wrongpass = 0\n",
    "maxattempts = 5\n",
    "\n",
    "while (correct == 1 or wrongpass <= maxattempts and wronpass<6):\n",
    "    A = list('ABCDEFGHIJKLMNOPQRSTUVWXYZ')\n",
    "    a = list('abcdefghijklmnopqrstuvwxyz')\n",
    "    n = str([0, 1, 2, 3, 4, 5, 6, 7, 8, 9])\n",
    "    sp = list('@_!#$%^&*()<>?/\\|}{~:;.[]')\n",
    "\n",
    "    password = input('\\n Enter the password: ')\n",
    "    minpass = 6\n",
    "    maxpass = 12\n",
    "\n",
    "    if minpass <= len(password) <= maxpass:\n",
    "        correct = 1\n",
    "        print(\"\\n Password is possible. Length of the password is \", len(password))\n",
    "        c1 = 0\n",
    "        c2 = 0\n",
    "        c3 = 0\n",
    "        c4 = 0\n",
    "\n",
    "        for i in password:\n",
    "            if i in A:\n",
    "                c1 = 1\n",
    "                print(\"\\n pass word contain Capital letters also = \", i)\n",
    "            elif i in a:\n",
    "                c2 = 2\n",
    "                print(\"\\n password word contain small letters also =\", i)\n",
    "            elif i in n:\n",
    "                c3 = 3\n",
    "                print(\"\\n password contains numbers also =\", i)\n",
    "            elif i in sp:\n",
    "                c4 = 4\n",
    "                print(\"\\n password contains special characters also =\", i)\n",
    "\n",
    "        if c1 == 1 and c2 == 2 and c3 == 3 and c4 == 4:\n",
    "            print(\"\\n password contains Capital, small letters, special characters, and numbers.\")\n",
    "            break\n",
    "        else:\n",
    "            print(\"\\n Please enter a password with capital letters, small letters, and special characters.\")\n",
    "    else:\n",
    "        wrongpass = wrongpass + 1\n",
    "        print(\"\\n The password length is not possible. The password must be between 6 and 12 characters.\",\"--number of attempts is-->\",wrongpass)\n",
    "\n",
    "if wrongpass == maxattempts:\n",
    "    print(\"\\n Maximum number of attempts reached. Access denied.\")\n"
   ]
  },
  {
   "cell_type": "markdown",
   "id": "6dc3e80e-a9aa-484b-a6a7-f2d611f3b383",
   "metadata": {},
   "source": [
    "#question 6\n",
    "correct = 1\n",
    "wrongpass = 0\n",
    "maxattempts = 5\n",
    "\n",
    "while (correct == 1 or wrongpass >=0):\n",
    "    A = list('ABCDEFGHIJKLMNOPQRSTUVWXYZ')\n",
    "    a = list('abcdefghijklmnopqrstuvwxyz')\n",
    "    n = str([0, 1, 2, 3, 4, 5, 6, 7, 8, 9])\n",
    "    sp = list('@_!#$%^&*()<>?/\\|}{~:;.[]')\n",
    "\n",
    "    password = input('\\n Enter the password: ')\n",
    "    minpass = 6\n",
    "    maxpass = 12\n",
    "\n",
    "    if minpass <= len(password) <= maxpass:\n",
    "        correct = 1\n",
    "        print(\"\\n Password is possible. Length of the password is \", len(password))\n",
    "        c1 = 0\n",
    "        c2 = 0\n",
    "        c3 = 0\n",
    "        c4 = 0\n",
    "\n",
    "        for i in password:\n",
    "            if i in A:\n",
    "                c1 = 1\n",
    "                print(\"\\n pass word contain Capital letters also = \", i)\n",
    "            elif i in a:\n",
    "                c2 = 2\n",
    "                print(\"\\n password word contain small letters also =\", i)\n",
    "            elif i in n:\n",
    "                c3 = 3\n",
    "                print(\"\\n password contains numbers also =\", i)\n",
    "            elif i in sp:\n",
    "                c4 = 4\n",
    "                print(\"\\n password contains special characters also =\", i)\n",
    "\n",
    "        if c1 == 1 and c2 == 2 and c3 == 3 and c4 == 4:\n",
    "            print(\"\\n password contains Capital, small letters, special characters, and numbers.\")\n",
    "            break\n",
    "        else:\n",
    "            print(\"\\n Please enter a password with capital letters, small letters, and special characters.\")\n",
    "    else:\n",
    "        if(wrongpass<=maxattempts):\n",
    "            wrongpass = wrongpass + 1\n",
    "            print(\"\\n The password length is not possible. The password must be between 6 and 12 characters.\",\"--number of attempts is-->\",wrongpass)\n",
    "            break\n",
    "\n",
    "if wrongpass == maxattempts:\n",
    "    print(\"\\n Maximum number of attempts reached. Access denied.\")\n"
   ]
  },
  {
   "cell_type": "code",
   "execution_count": 2,
   "id": "23820aa1-0d05-4144-9518-d425f615f9bb",
   "metadata": {},
   "outputs": [
    {
     "name": "stdin",
     "output_type": "stream",
     "text": [
      "\n",
      " Enter the password:  778p\n"
     ]
    },
    {
     "name": "stdout",
     "output_type": "stream",
     "text": [
      "\n",
      " The password length is not possible. The password must be between 6 and 12 characters. --number of attempts is--> 1\n"
     ]
    },
    {
     "name": "stdin",
     "output_type": "stream",
     "text": [
      "\n",
      " Enter the password:  iii\n"
     ]
    },
    {
     "name": "stdout",
     "output_type": "stream",
     "text": [
      "\n",
      " The password length is not possible. The password must be between 6 and 12 characters. --number of attempts is--> 2\n"
     ]
    },
    {
     "name": "stdin",
     "output_type": "stream",
     "text": [
      "\n",
      " Enter the password:  qwerr\n"
     ]
    },
    {
     "name": "stdout",
     "output_type": "stream",
     "text": [
      "\n",
      " The password length is not possible. The password must be between 6 and 12 characters. --number of attempts is--> 3\n"
     ]
    },
    {
     "name": "stdin",
     "output_type": "stream",
     "text": [
      "\n",
      " Enter the password:  bhhh9\n"
     ]
    },
    {
     "name": "stdout",
     "output_type": "stream",
     "text": [
      "\n",
      " The password length is not possible. The password must be between 6 and 12 characters. --number of attempts is--> 4\n"
     ]
    },
    {
     "name": "stdin",
     "output_type": "stream",
     "text": [
      "\n",
      " Enter the password:  8888\n"
     ]
    },
    {
     "name": "stdout",
     "output_type": "stream",
     "text": [
      "\n",
      " Maximum number of attempts reached. Access denied.\n"
     ]
    }
   ],
   "source": [
    "correct = 1\n",
    "wrongpass = 0\n",
    "maxattempts = 5\n",
    "\n",
    "while (correct == 1 and wrongpass < maxattempts):\n",
    "    A = list('ABCDEFGHIJKLMNOPQRSTUVWXYZ')\n",
    "    a = list('abcdefghijklmnopqrstuvwxyz')\n",
    "    n = str([0, 1, 2, 3, 4, 5, 6, 7, 8, 9])\n",
    "    sp = list('@_!#$%^&*()<>?/\\|}{~:;.[]')\n",
    "\n",
    "    password = input('\\n Enter the password: ')\n",
    "    minpass = 6\n",
    "    maxpass = 12\n",
    "\n",
    "    if minpass <= len(password) <= maxpass:\n",
    "        correct = 1\n",
    "        print(\"\\n Password is possible. Length of the password is \", len(password))\n",
    "        c1 = 0\n",
    "        c2 = 0\n",
    "        c3 = 0\n",
    "        c4 = 0\n",
    "\n",
    "        for i in password:\n",
    "            if i in A:\n",
    "                c1 = 1\n",
    "                print(\"\\n pass word contain Capital letters also = \", i)\n",
    "            elif i in a:\n",
    "                c2 = 2\n",
    "                print(\"\\n password word contain small letters also =\", i)\n",
    "            elif i in n:\n",
    "                c3 = 3\n",
    "                print(\"\\n password contains numbers also =\", i)\n",
    "            elif i in sp:\n",
    "                c4 = 4\n",
    "                print(\"\\n password contains special characters also =\", i)\n",
    "\n",
    "        if c1 == 1 and c2 == 2 and c3 == 3 and c4 == 4:\n",
    "            print(\"\\n password contains Capital, small letters, special characters, and numbers.\")\n",
    "            break\n",
    "        else:\n",
    "            print(\"\\n Please enter a password with capital letters, small letters, and special characters.\")\n",
    "    else:\n",
    "        wrongpass = wrongpass + 1\n",
    "        if wrongpass < maxattempts:\n",
    "            print(\"\\n The password length is not possible. The password must be between 6 and 12 characters.\",\n",
    "                  \"--number of attempts is-->\", wrongpass)\n",
    "        else:\n",
    "            print(\"\\n Maximum number of attempts reached. Access denied.\")\n"
   ]
  },
  {
   "cell_type": "code",
   "execution_count": null,
   "id": "15058f92-e1d5-472d-a97f-0d8a57bf63aa",
   "metadata": {},
   "outputs": [],
   "source": []
  }
 ],
 "metadata": {
  "kernelspec": {
   "display_name": "Python 3 (ipykernel)",
   "language": "python",
   "name": "python3"
  },
  "language_info": {
   "codemirror_mode": {
    "name": "ipython",
    "version": 3
   },
   "file_extension": ".py",
   "mimetype": "text/x-python",
   "name": "python",
   "nbconvert_exporter": "python",
   "pygments_lexer": "ipython3",
   "version": "3.10.6"
  }
 },
 "nbformat": 4,
 "nbformat_minor": 5
}
